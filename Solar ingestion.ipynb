{
 "cells": [
  {
   "cell_type": "code",
   "execution_count": 104,
   "id": "026e4d07",
   "metadata": {
    "scrolled": true
   },
   "outputs": [
    {
     "name": "stdout",
     "output_type": "stream",
     "text": [
      "Collecting git+https://bitbucket.org/freemens/ion_sdk.git@master\n",
      "  Cloning https://bitbucket.org/freemens/ion_sdk.git (to revision master) to c:\\users\\gcoll\\appdata\\local\\temp\\pip-req-build-cpyobzgi\n",
      "Requirement already satisfied: uplink==0.9.1 in c:\\users\\gcoll\\anaconda3\\lib\\site-packages (from ion-sdk==0.3.1) (0.9.1)\n",
      "Requirement already satisfied: pandas in c:\\users\\gcoll\\anaconda3\\lib\\site-packages (from ion-sdk==0.3.1) (1.3.4)\n",
      "Requirement already satisfied: numpy in c:\\users\\gcoll\\anaconda3\\lib\\site-packages (from ion-sdk==0.3.1) (1.21.4)\n",
      "Requirement already satisfied: scipy in c:\\users\\gcoll\\anaconda3\\lib\\site-packages (from ion-sdk==0.3.1) (1.6.2)\n",
      "Requirement already satisfied: python-dateutil in c:\\users\\gcoll\\anaconda3\\lib\\site-packages (from ion-sdk==0.3.1) (2.8.1)\n",
      "Requirement already satisfied: tabulate in c:\\users\\gcoll\\anaconda3\\lib\\site-packages (from ion-sdk==0.3.1) (0.8.9)\n",
      "Requirement already satisfied: matplotlib in c:\\users\\gcoll\\anaconda3\\lib\\site-packages (from ion-sdk==0.3.1) (3.3.4)\n",
      "Requirement already satisfied: fuzzywuzzy in c:\\users\\gcoll\\anaconda3\\lib\\site-packages (from ion-sdk==0.3.1) (0.18.0)\n",
      "Requirement already satisfied: plotly in c:\\users\\gcoll\\anaconda3\\lib\\site-packages (from ion-sdk==0.3.1) (5.3.1)\n",
      "Requirement already satisfied: python-Levenshtein in c:\\users\\gcoll\\anaconda3\\lib\\site-packages (from ion-sdk==0.3.1) (0.12.2)\n",
      "Requirement already satisfied: tqdm in c:\\users\\gcoll\\anaconda3\\lib\\site-packages (from ion-sdk==0.3.1) (4.59.0)\n",
      "Requirement already satisfied: six>=1.12.0 in c:\\users\\gcoll\\anaconda3\\lib\\site-packages (from uplink==0.9.1->ion-sdk==0.3.1) (1.15.0)\n",
      "Requirement already satisfied: requests>=2.18.0 in c:\\users\\gcoll\\anaconda3\\lib\\site-packages (from uplink==0.9.1->ion-sdk==0.3.1) (2.25.1)\n",
      "Requirement already satisfied: uritemplate>=3.0.0 in c:\\users\\gcoll\\anaconda3\\lib\\site-packages (from uplink==0.9.1->ion-sdk==0.3.1) (4.1.1)\n",
      "Requirement already satisfied: idna<3,>=2.5 in c:\\users\\gcoll\\anaconda3\\lib\\site-packages (from requests>=2.18.0->uplink==0.9.1->ion-sdk==0.3.1) (2.10)\n",
      "Requirement already satisfied: chardet<5,>=3.0.2 in c:\\users\\gcoll\\anaconda3\\lib\\site-packages (from requests>=2.18.0->uplink==0.9.1->ion-sdk==0.3.1) (4.0.0)\n",
      "Requirement already satisfied: certifi>=2017.4.17 in c:\\users\\gcoll\\anaconda3\\lib\\site-packages (from requests>=2.18.0->uplink==0.9.1->ion-sdk==0.3.1) (2020.12.5)\n",
      "Requirement already satisfied: urllib3<1.27,>=1.21.1 in c:\\users\\gcoll\\anaconda3\\lib\\site-packages (from requests>=2.18.0->uplink==0.9.1->ion-sdk==0.3.1) (1.26.4)\n",
      "Requirement already satisfied: pyparsing!=2.0.4,!=2.1.2,!=2.1.6,>=2.0.3 in c:\\users\\gcoll\\anaconda3\\lib\\site-packages (from matplotlib->ion-sdk==0.3.1) (2.4.7)\n",
      "Requirement already satisfied: kiwisolver>=1.0.1 in c:\\users\\gcoll\\anaconda3\\lib\\site-packages (from matplotlib->ion-sdk==0.3.1) (1.3.1)\n",
      "Requirement already satisfied: cycler>=0.10 in c:\\users\\gcoll\\anaconda3\\lib\\site-packages (from matplotlib->ion-sdk==0.3.1) (0.10.0)\n",
      "Requirement already satisfied: pillow>=6.2.0 in c:\\users\\gcoll\\anaconda3\\lib\\site-packages (from matplotlib->ion-sdk==0.3.1) (8.2.0)\n",
      "Requirement already satisfied: pytz>=2017.3 in c:\\users\\gcoll\\anaconda3\\lib\\site-packages (from pandas->ion-sdk==0.3.1) (2021.1)\n",
      "Requirement already satisfied: tenacity>=6.2.0 in c:\\users\\gcoll\\anaconda3\\lib\\site-packages (from plotly->ion-sdk==0.3.1) (8.0.1)\n",
      "Requirement already satisfied: setuptools in c:\\users\\gcoll\\anaconda3\\lib\\site-packages (from python-Levenshtein->ion-sdk==0.3.1) (52.0.0.post20210125)\n",
      "env: ALTERGO_FACTORY_API=https://staging.altergo.io/\n",
      "env: ALTERGO_IOT_API=https://iot.staging.altergo.io/\n"
     ]
    },
    {
     "name": "stderr",
     "output_type": "stream",
     "text": [
      "  Running command git clone -q https://bitbucket.org/freemens/ion_sdk.git 'C:\\Users\\gcoll\\AppData\\Local\\Temp\\pip-req-build-cpyobzgi'\n"
     ]
    }
   ],
   "source": [
    "!pip install --upgrade git+https://bitbucket.org/freemens/ion_sdk.git@master    \n",
    "%env ALTERGO_FACTORY_API = https://staging.altergo.io/\n",
    "%env ALTERGO_IOT_API = https://iot.staging.altergo.io/   "
   ]
  },
  {
   "cell_type": "code",
   "execution_count": 105,
   "id": "a674a3bc",
   "metadata": {},
   "outputs": [],
   "source": [
    "import pandas as pd\n",
    "data = pd.read_csv('fullyearweather.csv')\n",
    "import matplotlib.pyplot as plt\n",
    "import ion_sdk.edison_api.edison_api as eapi\n",
    "import datetime\n",
    "from ion_sdk.edison_api.models.factoryModel import EdisonGenericComponent, Model,CurrentState\n",
    "\n",
    "edApi=eapi.Client(\"f6ad4f7166814976b66b9cb346ebc5dd\")\n"
   ]
  },
  {
   "cell_type": "code",
   "execution_count": 106,
   "id": "deef565f",
   "metadata": {},
   "outputs": [],
   "source": [
    "data['timestamp'] = pd.to_datetime(data['timestamp'])\n",
    "data=data.set_index('timestamp')"
   ]
  },
  {
   "cell_type": "code",
   "execution_count": 107,
   "id": "17279241",
   "metadata": {},
   "outputs": [
    {
     "name": "stdout",
     "output_type": "stream",
     "text": [
      "                     Direct radiation\n",
      "timestamp                            \n",
      "2020-01-01 00:00:00               0.0\n",
      "2020-01-01 01:00:00               0.0\n",
      "2020-01-01 02:00:00               0.0\n",
      "2020-01-01 03:00:00               0.0\n",
      "2020-01-01 04:00:00               0.0\n",
      "...                               ...\n",
      "2020-12-31 19:00:00               0.0\n",
      "2020-12-31 20:00:00               0.0\n",
      "2020-12-31 21:00:00               0.0\n",
      "2020-12-31 22:00:00               0.0\n",
      "2020-12-31 23:00:00               0.0\n",
      "\n",
      "[8784 rows x 1 columns]\n"
     ]
    }
   ],
   "source": [
    "print(data)"
   ]
  },
  {
   "cell_type": "code",
   "execution_count": 108,
   "id": "066c427c",
   "metadata": {},
   "outputs": [
    {
     "data": {
      "text/plain": [
       "(8784, 1)"
      ]
     },
     "execution_count": 108,
     "metadata": {},
     "output_type": "execute_result"
    }
   ],
   "source": [
    "data.shape"
   ]
  },
  {
   "cell_type": "code",
   "execution_count": 109,
   "id": "30eddcec-2c4a-4b30-85c7-8ec3fac6d412",
   "metadata": {},
   "outputs": [],
   "source": [
    "data['Radiation rolling average'] = data['Direct radiation'].rolling(168,min_periods=168).mean()"
   ]
  },
  {
   "cell_type": "code",
   "execution_count": 100,
   "id": "2ce5ef4f-0312-4e77-8911-b3a46c06bbcd",
   "metadata": {},
   "outputs": [
    {
     "data": {
      "text/plain": [
       "Direct radiation              0.000000\n",
       "Radiation rolling average    69.719845\n",
       "Name: 0.1, dtype: float64"
      ]
     },
     "execution_count": 100,
     "metadata": {},
     "output_type": "execute_result"
    }
   ],
   "source": [
    "data.quantile(.1)"
   ]
  },
  {
   "cell_type": "code",
   "execution_count": 76,
   "id": "88eaadea-6835-45b9-a727-a76e484129ac",
   "metadata": {},
   "outputs": [
    {
     "data": {
      "text/html": [
       "<div>\n",
       "<style scoped>\n",
       "    .dataframe tbody tr th:only-of-type {\n",
       "        vertical-align: middle;\n",
       "    }\n",
       "\n",
       "    .dataframe tbody tr th {\n",
       "        vertical-align: top;\n",
       "    }\n",
       "\n",
       "    .dataframe thead th {\n",
       "        text-align: right;\n",
       "    }\n",
       "</style>\n",
       "<table border=\"1\" class=\"dataframe\">\n",
       "  <thead>\n",
       "    <tr style=\"text-align: right;\">\n",
       "      <th></th>\n",
       "      <th>Direct radiation</th>\n",
       "      <th>Radiation rolling average</th>\n",
       "    </tr>\n",
       "    <tr>\n",
       "      <th>timestamp</th>\n",
       "      <th></th>\n",
       "      <th></th>\n",
       "    </tr>\n",
       "  </thead>\n",
       "  <tbody>\n",
       "    <tr>\n",
       "      <th>2020-01-08 09:00:00</th>\n",
       "      <td>15.13</td>\n",
       "      <td>69.700773</td>\n",
       "    </tr>\n",
       "    <tr>\n",
       "      <th>2020-01-08 10:00:00</th>\n",
       "      <td>77.43</td>\n",
       "      <td>69.361726</td>\n",
       "    </tr>\n",
       "    <tr>\n",
       "      <th>2020-01-08 11:00:00</th>\n",
       "      <td>175.33</td>\n",
       "      <td>68.980297</td>\n",
       "    </tr>\n",
       "    <tr>\n",
       "      <th>2020-01-08 12:00:00</th>\n",
       "      <td>279.46</td>\n",
       "      <td>68.805476</td>\n",
       "    </tr>\n",
       "    <tr>\n",
       "      <th>2020-01-08 13:00:00</th>\n",
       "      <td>266.11</td>\n",
       "      <td>68.386964</td>\n",
       "    </tr>\n",
       "    <tr>\n",
       "      <th>...</th>\n",
       "      <td>...</td>\n",
       "      <td>...</td>\n",
       "    </tr>\n",
       "    <tr>\n",
       "      <th>2020-12-31 19:00:00</th>\n",
       "      <td>0.00</td>\n",
       "      <td>53.007976</td>\n",
       "    </tr>\n",
       "    <tr>\n",
       "      <th>2020-12-31 20:00:00</th>\n",
       "      <td>0.00</td>\n",
       "      <td>53.007976</td>\n",
       "    </tr>\n",
       "    <tr>\n",
       "      <th>2020-12-31 21:00:00</th>\n",
       "      <td>0.00</td>\n",
       "      <td>53.007976</td>\n",
       "    </tr>\n",
       "    <tr>\n",
       "      <th>2020-12-31 22:00:00</th>\n",
       "      <td>0.00</td>\n",
       "      <td>53.007976</td>\n",
       "    </tr>\n",
       "    <tr>\n",
       "      <th>2020-12-31 23:00:00</th>\n",
       "      <td>0.00</td>\n",
       "      <td>53.007976</td>\n",
       "    </tr>\n",
       "  </tbody>\n",
       "</table>\n",
       "<p>862 rows × 2 columns</p>\n",
       "</div>"
      ],
      "text/plain": [
       "                     Direct radiation  Radiation rolling average\n",
       "timestamp                                                       \n",
       "2020-01-08 09:00:00             15.13                  69.700773\n",
       "2020-01-08 10:00:00             77.43                  69.361726\n",
       "2020-01-08 11:00:00            175.33                  68.980297\n",
       "2020-01-08 12:00:00            279.46                  68.805476\n",
       "2020-01-08 13:00:00            266.11                  68.386964\n",
       "...                               ...                        ...\n",
       "2020-12-31 19:00:00              0.00                  53.007976\n",
       "2020-12-31 20:00:00              0.00                  53.007976\n",
       "2020-12-31 21:00:00              0.00                  53.007976\n",
       "2020-12-31 22:00:00              0.00                  53.007976\n",
       "2020-12-31 23:00:00              0.00                  53.007976\n",
       "\n",
       "[862 rows x 2 columns]"
      ]
     },
     "execution_count": 76,
     "metadata": {},
     "output_type": "execute_result"
    }
   ],
   "source": [
    "data.loc[data['Radiation rolling average'] < 69.719845]"
   ]
  },
  {
   "cell_type": "code",
   "execution_count": 101,
   "id": "34ea7971-34af-4bf1-8205-bc133c6a9744",
   "metadata": {},
   "outputs": [],
   "source": [
    "quantile = data[\"Radiation rolling average\"].quantile(.1)\n",
    "result_index = data['Radiation rolling average'].sub(quantile).abs().idxmin()"
   ]
  },
  {
   "cell_type": "code",
   "execution_count": 102,
   "id": "b45f078c-8a4b-4500-9840-33d10c9751fb",
   "metadata": {},
   "outputs": [
    {
     "name": "stdout",
     "output_type": "stream",
     "text": [
      "2020-01-07 23:00:00\n"
     ]
    }
   ],
   "source": [
    "print(result_index)"
   ]
  },
  {
   "cell_type": "code",
   "execution_count": 103,
   "id": "8169b5ab-c25c-437e-9489-5a8427906964",
   "metadata": {},
   "outputs": [
    {
     "name": "stdout",
     "output_type": "stream",
     "text": [
      "Direct radiation              0.000000\n",
      "Radiation rolling average    69.732559\n",
      "Name: 2020-01-07 23:00:00, dtype: float64\n"
     ]
    }
   ],
   "source": [
    "print(data.loc[result_index])"
   ]
  },
  {
   "cell_type": "code",
   "execution_count": null,
   "id": "b3d9f3e9-3ec1-4809-a19c-9523322ecd74",
   "metadata": {},
   "outputs": [],
   "source": []
  },
  {
   "cell_type": "code",
   "execution_count": 110,
   "id": "6c508036",
   "metadata": {},
   "outputs": [
    {
     "name": "stdout",
     "output_type": "stream",
     "text": [
      "EdisonComponent(id=348, serial_number='BWEATHER-3', iot_data=IotData(id=279, last_update=Datetime(date=datetime.datetime(2020, 12, 31, 23, 0), timezone_type=3, timezone='UTC'), shadow='{\"totalCount\":10446,\"needRefresh\":false,\"refreshObj\":[],\"_id\":\"618a3ea7d2c432001c867b64\",\"sensorStatistics\":[{\"_id\":\"618a3ea7d2c432001c867b65\",\"componentId\":348,\"sensorId\":15,\"sensorCode\":\"uLT\",\"sensorPosition\":\"0\",\"lastUpdate\":1609455600000,\"lastValue\":0,\"firstUpdate\":1577836800000,\"firstValue\":0,\"count\":5417,\"createdAt\":\"2021-11-09T09:26:01.783Z\",\"updatedAt\":\"2021-11-09T09:26:01.783Z\"},{\"_id\":\"618a3ea7d2c432001c867b67\",\"componentId\":348,\"sensorId\":28,\"sensorCode\":\"OXq\",\"sensorPosition\":\"0\",\"lastUpdate\":1609455600000,\"lastValue\":53.00797574999999,\"firstUpdate\":1578438000000,\"firstValue\":69.73255891666666,\"count\":5029,\"createdAt\":\"2021-11-09T09:26:01.784Z\",\"updatedAt\":\"2021-11-09T09:26:01.784Z\"}],\"componentId\":348,\"serialNumber\":\"BWEATHER-3\",\"lastUpdate\":1609455600000,\"firstUpdate\":1577836800000,\"createdAt\":\"2021-11-09T09:26:01.784Z\",\"updatedAt\":\"2021-11-09T09:26:01.784Z\"}', latitude=None, longitude=None), model=Model(id=16, name='Weather station', is_configurable=False, configuration_type=None, view_template=None, category=Category(id=2, name='Battery'), image=Image(id=6, name=None, file='d211b2721e1bfadbb4a41f704d4b46c0.jpeg'), configurations=[], parameters=[Parameter(id=14, parameter_model=ParameterModel(id=36, name='Height', si_unit=Category(id=17, name='m')), parameter_values=[ParameterValue(id=16, value='2', parameter_name_prefix=Category(id=2, name='Avg'), si_prefix=SiPrefix(id=6, name='k', value=1000.0))]), Parameter(id=15, parameter_model=ParameterModel(id=37, name='Weight', si_unit=Category(id=5, name='g')), parameter_values=[ParameterValue(id=17, value='7', parameter_name_prefix=Category(id=2, name='Avg'), si_prefix=SiPrefix(id=6, name='k', value=1000.0))]), Parameter(id=17, parameter_model=ParameterModel(id=10, name='Current', si_unit=Category(id=3, name='A')), parameter_values=[ParameterValue(id=19, value='4', parameter_name_prefix=Category(id=2, name='Avg'), si_prefix=SiPrefix(id=6, name='k', value=1000.0))])], sensors=[Sensor(name=None, plotly_js=None, array_map='1', id=30, format=None, sensor_model=SensorModel(code='uLT', id=15, name='Direct radiation', mapping='custom', unit='W/m²', type=<TypeEnum.FLOAT: 'float'>, data_structure=<DataStructure.ARRAY: 'array'>, scale=1.0, is_virtual=False, virtual_expression=''), ranges=[]), Sensor(name=None, plotly_js=None, array_map='1', id=31, format=None, sensor_model=SensorModel(code='Nf2', id=16, name='Solar radiation', mapping='custom', unit='W/m²', type=<TypeEnum.FLOAT: 'float'>, data_structure=<DataStructure.ARRAY: 'array'>, scale=1.0, is_virtual=False, virtual_expression=''), ranges=[]), Sensor(name=None, plotly_js=None, array_map='1', id=32, format=None, sensor_model=SensorModel(code='Zzv', id=17, name='Sunshine duration', mapping='custom', unit='min', type=<TypeEnum.FLOAT: 'float'>, data_structure=<DataStructure.ARRAY: 'array'>, scale=1.0, is_virtual=False, virtual_expression=''), ranges=[]), Sensor(name=None, plotly_js=None, array_map='1', id=69, format=None, sensor_model=SensorModel(code='OXq', id=28, name='Radiation rolling average', mapping='custom', unit='W/m²', type=<TypeEnum.FLOAT: 'float'>, data_structure=<DataStructure.ARRAY: 'array'>, scale=1.0, is_virtual=False, virtual_expression=''), ranges=[])], child_component_models=None), current_state=CurrentState(id=362, location='No location', description='No description', current_state_datetime=Datetime(date=datetime.datetime(2021, 11, 9, 8, 51, 18), timezone_type=3, timezone='UTC'), status=Status(id=6, name='In Stock', type=None), status_existential=Status(id=11, name='Complete', type=None), status_functional=Status(id=4, name='Unknown', type=None)), tags=[], df=None, dfList=[])\n"
     ]
    }
   ],
   "source": [
    "serial = \"BWEATHER-3\"\n",
    "asset=edApi.getAsset(serial)\n",
    "print(asset)"
   ]
  },
  {
   "cell_type": "code",
   "execution_count": 111,
   "id": "1bc5ce66",
   "metadata": {},
   "outputs": [
    {
     "name": "stdout",
     "output_type": "stream",
     "text": [
      "('Direct radiation', 100)\n",
      "('Radiation rolling average', 100)\n",
      "\n",
      "Preparing payload\n",
      "Payload sent successfully! Checkout: https://staging.altergo.io/core/iot/connected_component/view/348/graph\n"
     ]
    }
   ],
   "source": [
    "\n",
    "uploadSensorList=edApi.refactorDataframeToAsset(data,asset)\n",
    "asset.df=data\n",
    "edApi.updateSensorDataByFile(asset,uploadSensorList)\n"
   ]
  },
  {
   "cell_type": "code",
   "execution_count": 112,
   "id": "ba9aa8d4",
   "metadata": {},
   "outputs": [
    {
     "data": {
      "text/plain": [
       "<Figure size 432x288 with 0 Axes>"
      ]
     },
     "execution_count": 112,
     "metadata": {},
     "output_type": "execute_result"
    },
    {
     "data": {
      "text/plain": [
       "<Figure size 432x288 with 0 Axes>"
      ]
     },
     "metadata": {},
     "output_type": "display_data"
    }
   ],
   "source": [
    "plt.figure()"
   ]
  },
  {
   "cell_type": "code",
   "execution_count": 113,
   "id": "8e413d08",
   "metadata": {},
   "outputs": [
    {
     "data": {
      "text/plain": [
       "<AxesSubplot:xlabel='timestamp'>"
      ]
     },
     "execution_count": 113,
     "metadata": {},
     "output_type": "execute_result"
    },
    {
     "data": {
      "image/png": "[encoded data removed]",
      "text/plain": [
       "<Figure size 432x288 with 1 Axes>"
      ]
     },
     "metadata": {
      "needs_background": "light"
     },
     "output_type": "display_data"
    }
   ],
   "source": [
    "data.plot()"
   ]
  },
  {
   "cell_type": "code",
   "execution_count": 72,
   "id": "96d15191-181e-403c-8342-ea4f16e397e1",
   "metadata": {},
   "outputs": [
    {
     "data": {
      "text/plain": [
       "69.71984463095238"
      ]
     },
     "execution_count": 72,
     "metadata": {},
     "output_type": "execute_result"
    }
   ],
   "source": [
    "data['Radiation rolling average'].quantile(.1)"
   ]
  },
  {
   "cell_type": "code",
   "execution_count": null,
   "id": "8e172c92-72d5-4b51-8479-02049f509a03",
   "metadata": {},
   "outputs": [],
   "source": []
  }
 ],
 "metadata": {
  "kernelspec": {
   "display_name": "Python 3",
   "language": "python",
   "name": "python3"
  },
  "language_info": {
   "codemirror_mode": {
    "name": "ipython",
    "version": 3
   },
   "file_extension": ".py",
   "mimetype": "text/x-python",
   "name": "python",
   "nbconvert_exporter": "python",
   "pygments_lexer": "ipython3",
   "version": "3.8.8"
  }
 },
 "nbformat": 4,
 "nbformat_minor": 5
}
