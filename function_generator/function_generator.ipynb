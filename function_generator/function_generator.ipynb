{
 "cells": [
  {
   "cell_type": "code",
   "execution_count": null,
   "id": "e7bf8b50-6d0d-4009-b319-6d3df5d34018",
   "metadata": {},
   "outputs": [],
   "source": [
    "import datetime\n",
    "import pandas as pd\n",
    "import numpy as np\n",
    "import plotly.express as px\n"
   ]
  },
  {
   "cell_type": "code",
   "execution_count": null,
   "id": "ac3c79ef-a597-487e-96a1-fb0325af0f79",
   "metadata": {},
   "outputs": [],
   "source": [
    "day = 24 * 60 * 60\n",
    "year = 365.2425 * day"
   ]
  },
  {
   "cell_type": "code",
   "execution_count": null,
   "id": "a036598c-4c23-4090-a5c6-a8c49d83cccd",
   "metadata": {},
   "outputs": [],
   "source": [
    "firstHarmonic = 5\n",
    "secondHarmonic = 10\n",
    "thirdHarmonic = 0\n",
    "fourthHarmonic = 0\n",
    "fifthHarmonic = 0"
   ]
  },
  {
   "cell_type": "code",
   "execution_count": null,
   "id": "5cced061-7664-40da-944e-a2c4b9ce9391",
   "metadata": {},
   "outputs": [],
   "source": [
    "\n",
    "def load_dataframe(harmonics,sDate,eDate) -> pd.DataFrame:\n",
    "    \"\"\" Create a time series x sin wave dataframe. \"\"\"\n",
    "    df = pd.DataFrame(columns=['date', 'sin','combined'])\n",
    "    df.date = pd.date_range(start=sDate, end=eDate, freq='s')\n",
    "    df.sin = 1 + np.sin(df.date.astype('int64') // 1e9 * (2 * np.pi / (year/4)))\n",
    "    df.sin = (df.sin * 100).round(2)\n",
    "    df.combined = df.sin\n",
    "    if len(harmonics) > 0:\n",
    "        for i,h in enumerate(harmonics): \n",
    "            col = \"h\"+ str(i+1)\n",
    "            df[col] = 1 + np.sin(df.date.astype('int64') // 1e9 * (h * np.pi / day))\n",
    "            df[col] = (df[col] * 100).round(2)\n",
    "            df.combined =  df.combined + df[col]\n",
    "\n",
    "        df.date = df.date.apply(lambda d: d.strftime('%Y-%m-%d %H:%M:%S'))\n",
    "    return df\n",
    "\n",
    "\n",
    "\n",
    "hs= [0.5,10,2]"
   ]
  },
  {
   "cell_type": "code",
   "execution_count": null,
   "id": "ae184b58-0156-4b6f-bf81-0e38feace473",
   "metadata": {},
   "outputs": [],
   "source": [
    "#Input parameters\n",
    "apiKey = \"8332eccddd92a3b6cc005e4dbd288a75\"\n",
    "\n",
    "import ion_sdk.edison_api.edison_api as eapi\n",
    "from ion_sdk.edison_api.models.factoryModel import EdisonGenericComponent, Model,CurrentState\n",
    "import time"
   ]
  },
  {
   "cell_type": "code",
   "execution_count": null,
   "id": "bb142550-5de8-41a4-8336-b236369d1a9f",
   "metadata": {},
   "outputs": [],
   "source": [
    "## Connect the client\n",
    "AMAZON_FACTORY_API= 'https://amazon.altergo.io/'\n",
    "AMAZON_IOT_API= 'https://iot.amazon.altergo.io/'\n",
    "\n",
    "\n",
    "edApi = eapi.Client(apiKey, AMAZON_FACTORY_API, AMAZON_IOT_API)"
   ]
  },
  {
   "cell_type": "code",
   "execution_count": null,
   "id": "2ff404b1-cc25-4556-b5ae-f9e2c5bc0217",
   "metadata": {},
   "outputs": [],
   "source": [
    "assetSn = \"Virtual Site D\"\n",
    "assets = edApi.getAssets(assetSn,200)\n",
    "asset = None\n",
    "for a in assets:\n",
    "    if a.serial_number == assetSn:\n",
    "        asset = a"
   ]
  },
  {
   "cell_type": "code",
   "execution_count": null,
   "id": "623d303d-3637-4405-bb25-eee2488a2faf",
   "metadata": {
    "tags": []
   },
   "outputs": [],
   "source": [
    "packetTimeLength = 60 # in seconds\n",
    "dt_s = 60 # time interval between each send.\n",
    "prev_dt_s = 60\n",
    "generationIntervalDays = 1\n",
    "\n",
    "startDate = pd.Timestamp.now(tz='UTC')\n",
    "endDate = startDate + pd.Timedelta(days=generationIntervalDays*7)\n",
    "\n",
    "t = startDate\n",
    "currentDataDf = None\n",
    "\n",
    "while t < endDate:\n",
    "    \n",
    "    if t == startDate:\n",
    "        print('testStart')\n",
    "        currentDataDf = load_dataframe(hs,t,t+pd.Timedelta(days=generationIntervalDays))\n",
    "        lastSend = t \n",
    "    \n",
    "    if t - lastSend >= pd.Timedelta(days=generationIntervalDays):\n",
    "        print('newGen')\n",
    "        currentDataDf = load_dataframe(hs,t,t+pd.Timedelta(days=generationIntervalDays))\n",
    "        lastSend = t \n",
    "    \n",
    "    prev_dt_s = t\n",
    "    t += pd.Timedelta(seconds=packetTimeLength)\n",
    "    \n",
    "    packet = currentDataDf.head(packetTimeLength)\n",
    "    packet.rename(columns = {'combined':'Generic load'}, inplace = True)\n",
    "    \n",
    "    packet['date'] = pd.to_datetime(packet['date'])\n",
    "    packet = packet.set_index('date')\n",
    "    \n",
    "    data = packet\n",
    "    data = data[['Generic load']].copy()\n",
    "\n",
    "    uploadSensorList=edApi.refactorDataframeToAsset(data,asset)\n",
    "    asset.df=data\n",
    "    edApi.updateSensorDataByFile(asset,uploadSensorList)\n",
    "    currentDataDf = currentDataDf.iloc[packetTimeLength:]\n",
    " \n"
   ]
  },
  {
   "cell_type": "code",
   "execution_count": null,
   "id": "be8656e5-19cd-46c7-a142-93462275d6df",
   "metadata": {},
   "outputs": [],
   "source": []
  },
  {
   "cell_type": "code",
   "execution_count": null,
   "id": "3cf7b696-24fd-460b-b07e-64c3efe85771",
   "metadata": {},
   "outputs": [],
   "source": []
  }
 ],
 "metadata": {
  "kernelspec": {
   "display_name": "Python 3 (ipykernel)",
   "language": "python",
   "name": "python3"
  },
  "language_info": {
   "codemirror_mode": {
    "name": "ipython",
    "version": 3
   },
   "file_extension": ".py",
   "mimetype": "text/x-python",
   "name": "python",
   "nbconvert_exporter": "python",
   "pygments_lexer": "ipython3",
   "version": "3.9.5"
  }
 },
 "nbformat": 4,
 "nbformat_minor": 5
}
