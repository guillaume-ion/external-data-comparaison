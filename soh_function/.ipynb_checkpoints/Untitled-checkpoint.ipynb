{
 "cells": [
  {
   "cell_type": "markdown",
   "id": "01a9578d-0ecc-4dee-9d4d-f11f32e3b219",
   "metadata": {},
   "source": [
    "# Interpolation test"
   ]
  },
  {
   "cell_type": "code",
   "execution_count": 40,
   "id": "a31677b4-60d4-4edf-a204-d8933710d956",
   "metadata": {},
   "outputs": [],
   "source": [
    "import numpy as np\n",
    "from scipy import interpolate as interp"
   ]
  },
  {
   "cell_type": "code",
   "execution_count": 207,
   "id": "1b300b96-9d14-466e-9ac4-506f9a2a7c84",
   "metadata": {},
   "outputs": [
    {
     "name": "stdout",
     "output_type": "stream",
     "text": [
      "0.3461775760000002\n"
     ]
    }
   ],
   "source": [
    "SoC = 0.8\n",
    "f_soc = None\n",
    "\n",
    "if SoC < 0:\n",
    "    if error == \"raise\":\n",
    "        raise ValueError(f\"SoC cannot be less than 0. Provided {SoC}.\")\n",
    "    elif error == \"warn\":\n",
    "        warn(f\"SoC cannot be less than 0. Provided {SoC}.\")\n",
    "elif SoC <= 0.5:\n",
    "    f_soc = np.array([0.05403742, 0.05272258]).dot([SoC, 1])\n",
    "elif SoC <= 0.65:\n",
    "    f_soc = np.array([0.31674977, -0.07863359]).dot([SoC, 1])\n",
    "elif SoC <= 0.8:\n",
    "    f_soc = np.array([1.45949217, -0.82141616]).dot([SoC, 1])\n",
    "elif SoC <= 1.0:\n",
    "    f_soc = np.array([3.2691121, -2.2691121]).dot([SoC, 1])\n",
    "else:\n",
    "    if error == \"raise\":\n",
    "        raise ValueError(f\"SoC cannot be greater than 1. Provided {SoC}.\")\n",
    "    elif error == \"warn\":\n",
    "        warn(f\"SoC cannot be greater than 1. Provided {SoC}.\")\n",
    "print(f_soc)"
   ]
  },
  {
   "cell_type": "code",
   "execution_count": null,
   "id": "c2dc1bb4-523c-41be-bba2-1101b223551c",
   "metadata": {},
   "outputs": [],
   "source": [
    "def deg(SoC):\n",
    "    f_soc = None\n",
    "\n",
    "    if SoC < 0:\n",
    "        if error == \"raise\":\n",
    "            raise ValueError(f\"SoC cannot be less than 0. Provided {SoC}.\")\n",
    "        elif error == \"warn\":\n",
    "            warn(f\"SoC cannot be less than 0. Provided {SoC}.\")\n",
    "    elif SoC <= 0.5:\n",
    "        f_soc = np.array([0.05403742, 0.05272258]).dot([SoC, 1])\n",
    "    elif SoC <= 0.65:\n",
    "        f_soc = np.array([0.31674977, -0.07863359]).dot([SoC, 1])\n",
    "    elif SoC <= 0.8:\n",
    "        f_soc = np.array([1.45949217, -0.82141616]).dot([SoC, 1])\n",
    "    elif SoC <= 1.0:\n",
    "        f_soc = np.array([3.2691121, -2.2691121]).dot([SoC, 1])\n",
    "    else:\n",
    "        if error == \"raise\":\n",
    "            raise ValueError(f\"SoC cannot be greater than 1. Provided {SoC}.\")\n",
    "        elif error == \"warn\":\n",
    "            warn(f\"SoC cannot be greater than 1. Provided {SoC}.\")\n",
    "    return f_soc"
   ]
  },
  {
   "cell_type": "code",
   "execution_count": 208,
   "id": "ce7dbc8e-95b3-4ed6-b233-b7103402bf74",
   "metadata": {},
   "outputs": [
    {
     "name": "stdout",
     "output_type": "stream",
     "text": [
      "0.34617758\n"
     ]
    }
   ],
   "source": [
    "v = (3.2691121 * 0.8) + -2.2691121\n",
    "print(v)"
   ]
  },
  {
   "cell_type": "code",
   "execution_count": 209,
   "id": "9f3983e6-0dee-4437-b78b-7d0c2ee68330",
   "metadata": {
    "tags": []
   },
   "outputs": [],
   "source": [
    "y = np.array([0.05403742, 0.05272258, 0.31674977, -0.07863359, 1.45949217,-0.82141616, 3.2691121, -2.2691121])"
   ]
  },
  {
   "cell_type": "code",
   "execution_count": 210,
   "id": "69818b15-9a1c-4192-90bf-834bc857333f",
   "metadata": {},
   "outputs": [],
   "source": [
    "x = np.array([0,0.5, 0.65, 0.8, 1.0])"
   ]
  },
  {
   "cell_type": "code",
   "execution_count": 211,
   "id": "bc220266-7cfe-4db3-810a-07bfe95bd835",
   "metadata": {},
   "outputs": [
    {
     "name": "stdout",
     "output_type": "stream",
     "text": [
      "[0.   0.5  0.65 0.8  1.  ]\n",
      "[0.         0.28571429 0.52142857 0.60714286 0.69285714 0.77857143\n",
      " 0.88571429 1.        ]\n"
     ]
    }
   ],
   "source": [
    "socList_interp = interp.interp1d(np.arange(socList.size),socList)\n",
    "print(x)\n",
    "x = socList_interp(np.linspace(0,socList.size-1,paramList.size))\n",
    "print(x)\n"
   ]
  },
  {
   "cell_type": "code",
   "execution_count": 212,
   "id": "6345f101-268a-48fa-b73a-441973a5e28c",
   "metadata": {},
   "outputs": [
    {
     "name": "stdout",
     "output_type": "stream",
     "text": [
      "[0.         0.03448276 0.06896552 0.10344828 0.13793103 0.17241379\n",
      " 0.20689655 0.24137931 0.27586207 0.31034483 0.34482759 0.37931034\n",
      " 0.4137931  0.44827586 0.48275862 0.51724138 0.55172414 0.5862069\n",
      " 0.62068966 0.65517241 0.68965517 0.72413793 0.75862069 0.79310345\n",
      " 0.82758621 0.86206897 0.89655172 0.93103448 0.96551724 1.        ]\n"
     ]
    }
   ],
   "source": [
    "f = interp.interp1d(x,y,kind='linear')\n",
    "f2 = interp.interp1d(x, y, kind='cubic')\n",
    "soc = 0.8\n",
    "\n",
    "v = f(soc).dot([soc, 1])\n",
    "xnew = np.linspace(0, 1, num=30, endpoint=True)\n",
    "print(xnew)\n"
   ]
  },
  {
   "cell_type": "code",
   "execution_count": null,
   "id": "d32a7a1f-b230-49b7-afa1-a11e2bf96678",
   "metadata": {},
   "outputs": [],
   "source": [
    "def deg(v,soc):\n",
    "    "
   ]
  },
  {
   "cell_type": "code",
   "execution_count": 214,
   "id": "9e4c47da-2d3c-4151-82c4-522a30cc7fb3",
   "metadata": {
    "tags": []
   },
   "outputs": [
    {
     "data": {
      "image/png": "[encoded data removed]",
      "text/plain": [
       "<Figure size 432x288 with 1 Axes>"
      ]
     },
     "metadata": {
      "needs_background": "light"
     },
     "output_type": "display_data"
    }
   ],
   "source": [
    "import matplotlib.pyplot as plt\n",
    "plt.plot(x, y, '-', xnew, f(xnew), 's')\n",
    "plt.legend(['data', 'linear'], loc='best')\n",
    "plt.show()"
   ]
  },
  {
   "cell_type": "code",
   "execution_count": null,
   "id": "b6a45acf-6c31-48c9-b237-a0908c4f20fd",
   "metadata": {},
   "outputs": [],
   "source": []
  },
  {
   "cell_type": "code",
   "execution_count": null,
   "id": "3684aa53-f104-46d7-9e3a-919f484b1959",
   "metadata": {},
   "outputs": [],
   "source": []
  }
 ],
 "metadata": {
  "kernelspec": {
   "display_name": "Python 3 (ipykernel)",
   "language": "python",
   "name": "python3"
  },
  "language_info": {
   "codemirror_mode": {
    "name": "ipython",
    "version": 3
   },
   "file_extension": ".py",
   "mimetype": "text/x-python",
   "name": "python",
   "nbconvert_exporter": "python",
   "pygments_lexer": "ipython3",
   "version": "3.9.5"
  }
 },
 "nbformat": 4,
 "nbformat_minor": 5
}
