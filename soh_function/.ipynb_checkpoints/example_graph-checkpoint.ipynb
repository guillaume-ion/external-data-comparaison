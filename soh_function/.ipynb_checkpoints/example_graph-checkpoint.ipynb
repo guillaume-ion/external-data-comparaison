{
 "cells": [
  {
   "cell_type": "code",
   "execution_count": null,
   "id": "da61b416-91b4-4553-933e-6149d4424957",
   "metadata": {
    "tags": [
     "parameters"
    ]
   },
   "outputs": [],
   "source": [
    "#Input parameters\n",
    "key = \"value\"\n"
   ]
  },
  {
   "cell_type": "code",
   "execution_count": null,
   "id": "d41526a5-01d8-4f03-abe9-0e3fd2960e4d",
   "metadata": {},
   "outputs": [],
   "source": [
    "import plotly.express as px\n",
    "data_canada = px.data.gapminder().query(\"country == 'Canada'\")\n",
    "fig = px.bar(data_canada, x='year', y='pop')\n",
    "fig.show()"
   ]
  },
  {
   "cell_type": "code",
   "execution_count": null,
   "id": "ac460a19-ab0c-4029-8c04-ad81bfb68916",
   "metadata": {},
   "outputs": [],
   "source": []
  }
 ],
 "metadata": {
  "kernelspec": {
   "display_name": "Python 3 (ipykernel)",
   "language": "python",
   "name": "python3"
  },
  "language_info": {
   "codemirror_mode": {
    "name": "ipython",
    "version": 3
   },
   "file_extension": ".py",
   "mimetype": "text/x-python",
   "name": "python",
   "nbconvert_exporter": "python",
   "pygments_lexer": "ipython3",
   "version": "3.9.5"
  }
 },
 "nbformat": 4,
 "nbformat_minor": 5
}
