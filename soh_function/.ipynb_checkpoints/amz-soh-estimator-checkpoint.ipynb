{
 "cells": [
  {
   "cell_type": "code",
   "execution_count": 117,
   "id": "f0299864-7703-4319-943c-2b977d06b2f8",
   "metadata": {
    "tags": [
     "parameters"
    ]
   },
   "outputs": [],
   "source": [
    "#Input parameters\n",
    "startDate = \"01/01/2021\" # {\"startDate\": \"dd/mm/YYYY\"}\n",
    "endDate = \"31/12/2021\" # {\"startDate\": \"dd/mm/YYYY\"}\n",
    "assetSn = \"UPS A8\"\n"
   ]
  },
  {
   "cell_type": "code",
   "execution_count": 118,
   "id": "e5ee9880-7423-4af9-82b0-44418d8e11cf",
   "metadata": {},
   "outputs": [],
   "source": [
    "#pip install  git+https://bitbucket.org/freemens/ion_sdk.git@assembly --upgrade"
   ]
  },
  {
   "cell_type": "code",
   "execution_count": 119,
   "id": "969dc6f2-8fb8-47fb-a17c-2998ef817c49",
   "metadata": {},
   "outputs": [],
   "source": [
    "AMAZON_FACTORY_API= 'https://amazon.altergo.io/'\n",
    "AMAZON_IOT_API= 'https://iot.amazon.altergo.io/'\n",
    "apiKey=\"c65cd9531694143e4a747c544fe1ae7c\""
   ]
  },
  {
   "cell_type": "code",
   "execution_count": 120,
   "id": "dc10d07a-f55e-4e46-872c-bf48cfe8e845",
   "metadata": {},
   "outputs": [],
   "source": [
    "import numpy as np\n",
    "import plotly.express as px\n",
    "import plotly.graph_objects as go\n",
    "from plotly.subplots import make_subplots\n",
    "from functools import reduce\n",
    "import pandas as pd\n",
    "from getpass import getpass\n",
    "import ion_sdk.edison_api.edison_api as eapi\n",
    "from ion_sdk.edison_api.models.factoryModel import EdisonGenericComponent, Model,CurrentState\n",
    "from typing import List, Optional, Union, Iterable, Callable\n"
   ]
  },
  {
   "cell_type": "markdown",
   "id": "477dcb6e-0de3-43a3-9338-4251da86ac46",
   "metadata": {
    "tags": []
   },
   "source": [
    "## Lair Functions"
   ]
  },
  {
   "cell_type": "code",
   "execution_count": 121,
   "id": "fd493626-f2d4-4ec3-8f92-a206918c5d50",
   "metadata": {
    "jupyter": {
     "source_hidden": true
    },
    "tags": []
   },
   "outputs": [],
   "source": [
    "#@title Base Call for the Calendar Ageing Model (LAIR)\n",
    "\n",
    "class CalendarAging():\n",
    "\n",
    "    def __init__(self, params_dict: dict):\n",
    "        # Initialise the Cycle Aging class.\n",
    "        self._alpha = params_dict.get(\"alpha\", None)\n",
    "        if self.alpha is None:\n",
    "            self.alpha = self.alpha_function\n",
    "        self._integrate = params_dict.get(\"integrate\", None)\n",
    "        if self.integrate is None:\n",
    "            self.integrate = self.bdf1\n",
    "        self._Ea = params_dict[\"Ea\"]\n",
    "        self._z = params_dict[\"z\"]\n",
    "        if len(params_dict[\"k\"]) == 2:\n",
    "            self._k = params_dict[\"k\"]\n",
    "        else:\n",
    "            raise ValueError(\"Length of k should be 2.\")\n",
    "\n",
    "    def calibrate(self, train_df: pd.DataFrame):\n",
    "        # Function to calibrate the values of ks given the training data (x, y)\n",
    "        # Steps Description:\n",
    "        # Function to get the estimation and returning the MSE\n",
    "        # Run this in a minimizer.\n",
    "        \n",
    "        pass\n",
    "    \n",
    "    def _get_Q(self, x_data: pd.DataFrame, params):\n",
    "        # Function to calculate Q from the input_df that has been split into cycles.\n",
    "        df = x_data.copy()\n",
    "        df[\"alpha\"] = [self.alpha(params[:11], params[11], row[\"SoC\"], row[\"DoD\"], row[\"C_rate\"], row[\"T\"]) for _, row in df.iterrows()]\n",
    "        output_df = self.integrate(df, params[12])\n",
    "        return output_df[\"Q\"]\n",
    "\n",
    "    def estimate(self, input_df: pd.DataFrame, init_SoH: float = 1.0):\n",
    "        # Estimate the value of SoH given the input dataframe.\n",
    "        # Steps Description:\n",
    "        # The input dataframe contains the characteristic values (SoC, T)\n",
    "        # The dataframe is used to calculate the RHS of the differential equation.\n",
    "        # Since the characteristic values are not continuous, but rather (x,y) pairs, we cannot use a direct integration method from scipy.\n",
    "        # Thus, we manually implement BDF Order 1 (Forward Euler, easy to implement, everybody understands it). \n",
    "        # One thing to immediately note is that since the function is non-linear, BDF1 may face stability issues. \n",
    "        # Given the \"soft\" nature of the differential equation, I do not see this as a problem. However, as a back-up, we can do a higher order BDF to aid in stability, or go for AB/AB2/AM/AM2.\n",
    "        df = input_df.copy()\n",
    "        df[\"alpha\"] = [self._get_alpha(row[\"SoC\"], row[\"T\"]) for _, row in df.iterrows()]\n",
    "        output_df = self.integrate(df, self.z)\n",
    "        output_df.loc[:,\"Q\"] += init_SoH\n",
    "        output_df.loc[:,\"Q\"].fillna(init_SoH, inplace=True)\n",
    "        return output_df\n",
    "\n",
    "    def predict(self, input_df: pd.DataFrame):\n",
    "        # Predict the future value of SoH given the historic input dataframe till a particular time in the future.\n",
    "        # Steps Description:\n",
    "        # The input dataframe is already split into cycles, and the characteristic values of the cycle (SoC, DoD, C_rate, T)\n",
    "        # The cycles dataframe is extended (duplicated) further to some point in the future.\n",
    "        # The extended cycles dataframe is used to calculate the RHS of the differential equation.\n",
    "        # The steps are similar to estimate now.\n",
    "        pass\n",
    "    \n",
    "    @property\n",
    "    def alpha(self):\n",
    "        return self._alpha\n",
    "\n",
    "    @alpha.setter\n",
    "    def alpha(self, func: Callable):\n",
    "        if isinstance(func, Callable):\n",
    "            self._alpha = func\n",
    "        else:\n",
    "            raise TypeError(\"Provided alpha must be callable.\")\n",
    "            \n",
    "    @property\n",
    "    def integrate(self):\n",
    "        return self._integrate\n",
    "\n",
    "    @integrate.setter\n",
    "    def integrate(self, func: Callable):\n",
    "        if isinstance(func, Callable):\n",
    "            self._integrate = func\n",
    "        else:\n",
    "            raise TypeError(\"Provided integrate must be callable.\")\n",
    "    \n",
    "    @property\n",
    "    def Ea(self):\n",
    "        return self._Ea\n",
    "\n",
    "    @Ea.setter\n",
    "    def Ea(self, val: float):\n",
    "        self._Ea = val \n",
    "    \n",
    "    @property\n",
    "    def z(self):\n",
    "        return self._z\n",
    "\n",
    "    @z.setter\n",
    "    def z(self, val: float):\n",
    "        self._z = val\n",
    "\n",
    "    @property\n",
    "    def k(self):\n",
    "        return self._k\n",
    "\n",
    "    @k.setter\n",
    "    def k(self, val: list):\n",
    "        if isinstance(val, Iterable):\n",
    "            if len(val) == 2:\n",
    "                self._k = val\n",
    "            else:\n",
    "                raise ValueError(\"Length of Iterable provided should be 2.\")\n",
    "        else:\n",
    "            raise TypeError(f\"Cannot set k to a {type(val)}. It must be an Iterable.\")\n",
    "\n",
    "    def _get_alpha(self, SoC, T):\n",
    "        # This can be sped up by using a full-blown matrix multiplication. However, I believe this goes against the notion of \n",
    "        # having an extremely flexible function for alpha. If such is not the case, I will vectorise it.\n",
    "        return self.alpha(self.k, self.Ea, SoC, T)\n",
    "\n",
    "    # Default functions (if User does not provide a function to obtain alpha or perform integration)\n",
    "    @staticmethod\n",
    "    def bdf1(input_df: pd.DataFrame, z):\n",
    "        # Method to integrate the given the dataframe with the values of alpha and Ah throughput. The method is customised for this particular case\n",
    "        df = input_df.copy()\n",
    "        df[\"dt\"] = df[\"t\"].diff().fillna(0)\n",
    "        df[\"dQ\"] = -1 * (df[\"t\"] ** (z - 1)) * df[\"alpha\"] * z * df[\"dt\"]\n",
    "        df[\"dQ\"].fillna(0, inplace=True)\n",
    "        df[\"Q\"] = df[\"dQ\"].cumsum()\n",
    "        return df\n",
    "\n",
    "    @staticmethod\n",
    "    def alpha_function(k, Ea, SoC, T):\n",
    "        R = 8.314462\n",
    "        # Switch Case to make the piecewise SoC Function\n",
    "        if SoC < 0:\n",
    "            raise ValueError(\"SoC cannot be less than 0.\")\n",
    "        elif (SoC >=0) and (SoC <= 0.3):\n",
    "            A = k[0] * 1\n",
    "        elif (SoC > 0.3) and (SoC <= 0.6):\n",
    "            A = k[0] * 2\n",
    "        elif (SoC > 0.6) and (SoC <= 1):\n",
    "            A = k[0] * 3\n",
    "        else:\n",
    "            raise ValueError(\"SoC cannot be greater than 1.\")\n",
    "        return A * k[1] * np.exp(-Ea / R / T)"
   ]
  },
  {
   "cell_type": "code",
   "execution_count": 122,
   "id": "ba956eb9-ddf7-4d8a-ad53-6bf9e7d5fb91",
   "metadata": {
    "jupyter": {
     "source_hidden": true
    },
    "tags": []
   },
   "outputs": [],
   "source": [
    "#@title Functional Execution Definitions (LAIR)\n",
    "\n",
    "def estimate_calendar_SoH(params_dict: dict, input_df: pd.DataFrame):\n",
    "    # Creates a CalendarAging class, and estimates the SoH given the input dataframe.\n",
    "    pass\n",
    "\n",
    "def predict_calendar_SoH(params_dict: dict, input_df: pd.DataFrame):\n",
    "    # Creates a CalendarAging class, and predicts the SoH given the input dataframe till a particular time in the future.\n",
    "    pass\n",
    "\n",
    "def calibrate_calendar_SoH(params_dict: dict, train_df: pd.DataFrame):\n",
    "    pass"
   ]
  },
  {
   "cell_type": "markdown",
   "id": "f500d025-bfb3-4c8d-ba83-6a58640a1430",
   "metadata": {},
   "source": [
    "## Asset fetching "
   ]
  },
  {
   "cell_type": "code",
   "execution_count": 123,
   "id": "664c736d-3fe6-4d75-94dd-153d092ac44d",
   "metadata": {
    "jupyter": {
     "source_hidden": true
    },
    "tags": []
   },
   "outputs": [
    {
     "name": "stderr",
     "output_type": "stream",
     "text": [
      "c:\\python39\\lib\\site-packages\\ion_sdk\\edison_api\\edison_api.py:285: UserWarning:\n",
      "\n",
      "Parameters have been given for Endpoints... overriding Environements variables\n",
      "\n"
     ]
    }
   ],
   "source": [
    "## Connect the client\n",
    "edApi=eapi.Client(apiKey,AMAZON_FACTORY_API,AMAZON_IOT_API)"
   ]
  },
  {
   "cell_type": "code",
   "execution_count": 124,
   "id": "1010edbd-e6a0-452a-8606-1c150bfe225e",
   "metadata": {
    "tags": []
   },
   "outputs": [
    {
     "name": "stdout",
     "output_type": "stream",
     "text": [
      "test\n",
      "UPS A8\n"
     ]
    }
   ],
   "source": [
    "# Fetch the asset via serial number\n",
    "print('test')\n",
    "assets = edApi.getAssets(assetSn,20)\n",
    "asset = None\n",
    "for a in assets:\n",
    "    if a.serial_number == assetSn:\n",
    "        asset = a\n",
    "        \n",
    "print(asset.serial_number)"
   ]
  },
  {
   "cell_type": "code",
   "execution_count": 125,
   "id": "4dd8af18-f4c6-45fe-8f88-51c19aada376",
   "metadata": {
    "tags": []
   },
   "outputs": [
    {
     "name": "stdout",
     "output_type": "stream",
     "text": [
      "UPS A8-r1\n"
     ]
    }
   ],
   "source": [
    "# Check if there are children and add them to the list if they are batteries\n",
    "\n",
    "batteries = []\n",
    "\n",
    "if len(asset.current_state.child_components) > 0:\n",
    "    childs = asset.current_state.child_components\n",
    "    for c in childs:\n",
    "        if c.model.category.name == 'Battery':\n",
    "            batteries.append(c)\n",
    "\n",
    "for b in batteries:\n",
    "    print(b.serial_number)"
   ]
  },
  {
   "cell_type": "code",
   "execution_count": 126,
   "id": "d396e573-fdb0-4dd1-8f3c-f4f6b2de2383",
   "metadata": {
    "tags": []
   },
   "outputs": [],
   "source": [
    "startDate = list(map(int,startDate.split('/')))\n",
    "endDate = list(map(int,endDate.split('/')))\n"
   ]
  },
  {
   "cell_type": "code",
   "execution_count": 128,
   "id": "356f75dd-1f58-41f2-bb65-caf78a4e18b9",
   "metadata": {
    "tags": []
   },
   "outputs": [],
   "source": [
    "startDate = eapi.edisonDate(startDate[2],startDate[1],startDate[0],00,00)\n",
    "endDate = eapi.edisonDate(endDate[2],endDate[1],endDate[0],00,00)"
   ]
  },
  {
   "cell_type": "code",
   "execution_count": 129,
   "id": "1fbe8f50-78c3-4406-ba68-13695f67b412",
   "metadata": {},
   "outputs": [
    {
     "name": "stdout",
     "output_type": "stream",
     "text": [
      "getting sensors: SoC-Average Cell Temperature-Minimum Cell Temperature-Maximum Cell Temperature from: 2020-12-31 23:00:00 UTC to : 2021-12-30 23:00:00 UTC\n",
      "[##############################] 100%"
     ]
    },
    {
     "data": {
      "text/html": [
       "<div>\n",
       "<style scoped>\n",
       "    .dataframe tbody tr th:only-of-type {\n",
       "        vertical-align: middle;\n",
       "    }\n",
       "\n",
       "    .dataframe tbody tr th {\n",
       "        vertical-align: top;\n",
       "    }\n",
       "\n",
       "    .dataframe thead th {\n",
       "        text-align: right;\n",
       "    }\n",
       "</style>\n",
       "<table border=\"1\" class=\"dataframe\">\n",
       "  <thead>\n",
       "    <tr style=\"text-align: right;\">\n",
       "      <th></th>\n",
       "    </tr>\n",
       "  </thead>\n",
       "  <tbody>\n",
       "  </tbody>\n",
       "</table>\n",
       "</div>"
      ],
      "text/plain": [
       "Empty DataFrame\n",
       "Columns: []\n",
       "Index: []"
      ]
     },
     "execution_count": 129,
     "metadata": {},
     "output_type": "execute_result"
    }
   ],
   "source": [
    "sensorNameList=[\"SoC\",\"Average Cell Temperature\",\"Minimum Cell Temperature\",\"Maximum Cell Temperature\"]\n",
    "\n",
    "req={\n",
    "    \"assets\":batteries,\n",
    "    \"sensorNames\":sensorNameList,\n",
    "    \"startDate\":startDate,\n",
    "    \"endDate\":endDate\n",
    "        }\n",
    "edApi.getAssetDataFrame(**req)"
   ]
  },
  {
   "cell_type": "code",
   "execution_count": 130,
   "id": "a092ae34-e426-461a-bd82-02e3a65cf5dd",
   "metadata": {},
   "outputs": [],
   "source": [
    "def fix_soc(x):\n",
    "    if x < 0:\n",
    "        return 0\n",
    "    elif x > 1:\n",
    "        return 1\n",
    "    else:\n",
    "        return x\n",
    "\n",
    "def fix_T(x):\n",
    "    if x < 253.2:\n",
    "        return 253.2 # Guarding against floating point error\n",
    "    elif x > 373.1:\n",
    "        return 373.1\n",
    "    else:\n",
    "        return x\n"
   ]
  },
  {
   "cell_type": "code",
   "execution_count": 131,
   "id": "6fd6b35b-d734-4312-9197-0dd728c87847",
   "metadata": {
    "tags": []
   },
   "outputs": [],
   "source": [
    "def getDtSn(sn):\n",
    "    serialNumbers = []\n",
    "    avgSn = sn + '-DT-AVG'\n",
    "    minSn = sn + '-DT-MIN'\n",
    "    maxSn = sn + '-DT-MAX'\n",
    "    serialNumbers.append(avgSn)\n",
    "    serialNumbers.append(minSn)\n",
    "    serialNumbers.append(maxSn)\n",
    "    \n",
    "    return serialNumbers"
   ]
  },
  {
   "cell_type": "code",
   "execution_count": 132,
   "id": "858f563d-4a0c-44f2-9aff-1965e6ddc1c1",
   "metadata": {},
   "outputs": [],
   "source": [
    "for bat in batteries:\n",
    "    avgSn = bat.serial_number + '-DT-AVG'\n",
    "    minSn = bat.serial_number + '-DT-MIN'\n",
    "    maxSn = bat.serial_number + '-DT-MAX'\n",
    "    \n",
    "    edApi.createAssetBySerial('rack',avgSn)\n",
    "    edApi.createAssetBySerial('rack',minSn)\n",
    "    edApi.createAssetBySerial('rack',maxSn)"
   ]
  },
  {
   "cell_type": "code",
   "execution_count": 133,
   "id": "2384bedd-c0fb-4831-a537-97c8b414a10d",
   "metadata": {},
   "outputs": [
    {
     "name": "stdout",
     "output_type": "stream",
     "text": [
      "UPS A8-r1-DT-AVG\n",
      "UPS A8-r1-DT-MIN\n",
      "UPS A8-r1-DT-MAX\n"
     ]
    }
   ],
   "source": [
    "digitalTwinAssets = []\n",
    "for bat in batteries :\n",
    "    digitaTwinsSerialNumbers = getDtSn(bat.serial_number)\n",
    "    for sn in digitaTwinsSerialNumbers:\n",
    "        digitalTwinAssets.append(edApi.getAsset(sn))"
   ]
  },
  {
   "cell_type": "code",
   "execution_count": 134,
   "id": "80f51bca-932a-46d4-a8e8-97a191c73a1c",
   "metadata": {},
   "outputs": [],
   "source": [
    "lastValue = 0\n",
    "def decimateTh(x,sensorName,threshold):\n",
    "  global lastValue\n",
    "  m = x[sensorName] - lastValue\n",
    "  if abs(x[sensorName]-lastValue) > threshold:\n",
    "    lastValue = x[sensorName]\n",
    "    return x[sensorName]\n",
    "  else:\n",
    "    return None"
   ]
  },
  {
   "cell_type": "code",
   "execution_count": 135,
   "id": "1abdea15-1313-4b79-93e9-6ba56f0adab1",
   "metadata": {},
   "outputs": [],
   "source": [
    "def processSoHCols(df,temperatureColumn):\n",
    "    df[temperatureColumn] = df[temperatureColumn] + 273.15 # Adjust Temperature\n",
    "    df[temperatureColumn] = df[temperatureColumn].apply(lambda x: fix_T(x)) # Fix T\n",
    "    df = df[~((df[\"SoC\"].isna()) | (df[temperatureColumn].isna()))] # Drop any NaN rows\n",
    "    df[\"T\"] = df[temperatureColumn]\n",
    "    \n",
    "    df.drop([temperatureColumn], axis = 1,inplace= True)\n",
    "\n",
    "    if \"t\" not in df.columns:\n",
    "            # Convert the index to a time column\n",
    "            df.index = pd.to_datetime(df.index)\n",
    "            df[\"t\"] = df.index.to_series().diff().dt.total_seconds().fillna(0).cumsum() / 3600 / 24 + 0.0\n",
    "    newDf = df\n",
    "    return newDf"
   ]
  },
  {
   "cell_type": "code",
   "execution_count": 136,
   "id": "5ded42e0-7a30-41c9-bbba-fc3ee8364fa0",
   "metadata": {},
   "outputs": [
    {
     "name": "stdout",
     "output_type": "stream",
     "text": [
      "date\n",
      "2021-01-01 00:00:00    100.0\n",
      "2021-01-01 00:01:00    100.0\n",
      "2021-01-01 00:02:00    100.0\n",
      "2021-01-01 00:03:00    100.0\n",
      "2021-01-01 00:04:00    100.0\n",
      "                       ...  \n",
      "2021-12-30 22:56:00    100.0\n",
      "2021-12-30 22:57:00    100.0\n",
      "2021-12-30 22:58:00    100.0\n",
      "2021-12-30 22:59:00    100.0\n",
      "2021-12-30 23:00:00    100.0\n",
      "Name: SoC, Length: 483004, dtype: float64\n"
     ]
    }
   ],
   "source": [
    "for bat in batteries:\n",
    "    bat.df[\"SoC\"] /= 100 # Adjust SoC\n",
    "    bat.df[\"SoC\"] = bat.df[\"SoC\"].apply(lambda x: fix_soc(x)) # Fix SoC\n",
    "    for dt in digitalTwinAssets:\n",
    "        print(bat.df[\"SoC\"])\n",
    "        if bat.serial_number in dt.serial_number:\n",
    "            if \"AVG\" in dt.serial_number:\n",
    "                dt.df = processSoHCols(bat.df,\"Average Cell Temperature\")\n",
    "                dt.df['Tcimated'] = dt.df.apply(decimateTh, sensorName = 'T',threshold = 0.2, axis=1)\n",
    "                dt.df = dt.df[dt.df.Tcimated.notna()]\n",
    "                \n",
    "            if \"MIN\" in dt.serial_number:\n",
    "                dt.df = processSoHCols(bat.df,\"Minimum Cell Temperature\")\n",
    "                dt.df['Tcimated'] = dt.df.apply(decimateTh, sensorName = 'T',threshold = 0.2, axis=1)\n",
    "                dt.df = dt.df[dt.df.Tcimated.notna()]\n",
    "                \n",
    "            if \"MAX\" in dt.serial_number:\n",
    "                dt.df = processSoHCols(bat.df,\"Maximum Cell Temperature\")\n",
    "                dt.df['Tcimated'] = dt.df.apply(decimateTh, sensorName = 'T',threshold = 0.2, axis=1)\n",
    "                dt.df = dt.df[dt.df.Tcimated.notna()]\n",
    "            "
   ]
  },
  {
   "cell_type": "markdown",
   "id": "c9846caa-a014-412f-9159-a20488136ff7",
   "metadata": {},
   "source": [
    "# Calendar aging parameters"
   ]
  },
  {
   "cell_type": "code",
   "execution_count": 137,
   "id": "2e6e199c-4436-4a46-8597-679a51ba4baa",
   "metadata": {},
   "outputs": [],
   "source": [
    "#@title Calendar Aging Parametersa\n",
    "#  soc parameters\n",
    "a = 0.22773873\n",
    "b = 0.05369682\n",
    "c = 2.30882327\n",
    "d = -0.15441163\n",
    "e = -0.83467311\n",
    "f = 1.41733655\n",
    "\n",
    "x = np.array([ a,  b,  c, d, e , f])\n",
    "\n",
    "def f_soc(soc):\n",
    "    if soc < 0:\n",
    "        raise ValueError()\n",
    "    elif soc <= 0.1:\n",
    "        return x[0:2].dot([soc, 1])\n",
    "    elif soc <= 0.50:\n",
    "        return x[2:4].dot([soc, 1])\n",
    "    elif soc <= 1.0:\n",
    "        return x[4:6].dot([soc, 1])\n",
    "    else:\n",
    "        raise ValueError()\n",
    "\n",
    "def f_T(Ea, T):\n",
    "    R = 8.314462\n",
    "    return np.exp(-Ea / R / T) / temp_scale \n",
    "\n",
    "def new_alpha_function(k, Ea, SoC, T):\n",
    "    return k[0] * f_soc(SoC) * k[1] * f_T(Ea, T)"
   ]
  },
  {
   "cell_type": "code",
   "execution_count": 138,
   "id": "837e5670-d3f5-495b-b550-b932c5e93ac1",
   "metadata": {},
   "outputs": [],
   "source": [
    "for dt in digitalTwinAssets:\n",
    "    Ea = 69505.17765\n",
    "    true_SoC_scale = 275495513.62328136\n",
    "    temp_scale = 1.8537064913229408e-10\n",
    "    CalModel = CalendarAging(\n",
    "        {\n",
    "            \"alpha\": new_alpha_function,\n",
    "            \"k\": [true_SoC_scale, temp_scale],\n",
    "            \"Ea\": Ea, \n",
    "            \"z\": 1.0,\n",
    "        }\n",
    "    )\n",
    "    dt.df = CalModel.estimate(dt.df, init_SoH=1.0)"
   ]
  },
  {
   "cell_type": "code",
   "execution_count": 139,
   "id": "a15bbb88-731a-4347-b3c0-bb4870865819",
   "metadata": {},
   "outputs": [
    {
     "name": "stdout",
     "output_type": "stream",
     "text": [
      "\n",
      "Preparing payload\n",
      "Payload sent successfully! Checkout: https://edison.ionenergy.co/core/iot/connected_component/view/157/graph\n",
      "\n",
      "Preparing payload\n",
      "Payload sent successfully! Checkout: https://edison.ionenergy.co/core/iot/connected_component/view/158/graph\n",
      "\n",
      "Preparing payload\n",
      "Payload sent successfully! Checkout: https://edison.ionenergy.co/core/iot/connected_component/view/159/graph\n"
     ]
    }
   ],
   "source": [
    "    for dt in digitalTwinAssets:\n",
    "            dt.df[\"SoH\"] = dt.df[\"Q\"]\n",
    "            uploadSensorList = [\"SoH\"]\n",
    "            edApi.updateSensorDataByFile(dt, uploadSensorList)"
   ]
  }
 ],
 "metadata": {
  "kernelspec": {
   "display_name": "Python 3 (ipykernel)",
   "language": "python",
   "name": "python3"
  },
  "language_info": {
   "codemirror_mode": {
    "name": "ipython",
    "version": 3
   },
   "file_extension": ".py",
   "mimetype": "text/x-python",
   "name": "python",
   "nbconvert_exporter": "python",
   "pygments_lexer": "ipython3",
   "version": "3.9.5"
  }
 },
 "nbformat": 4,
 "nbformat_minor": 5
}
