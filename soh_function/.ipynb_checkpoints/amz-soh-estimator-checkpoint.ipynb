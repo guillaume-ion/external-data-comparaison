{
 "cells": [
  {
   "cell_type": "code",
   "execution_count": null,
   "id": "f0299864-7703-4319-943c-2b977d06b2f8",
   "metadata": {
    "tags": [
     "parameters"
    ]
   },
   "outputs": [],
   "source": [
    "#Input parameters\n",
    "startDate = \"01/01/2021\" # {\"startDate\": \"dd/mm/YYYY\"}\n",
    "endDate = \"31/12/2021\" # {\"startDate\": \"dd/mm/YYYY\"}\n",
    "assetSn = \"UPS A8\"\n"
   ]
  },
  {
   "cell_type": "code",
   "execution_count": null,
   "id": "e5ee9880-7423-4af9-82b0-44418d8e11cf",
   "metadata": {},
   "outputs": [],
   "source": [
    "#pip install  git+https://bitbucket.org/freemens/ion_sdk.git@assembly --upgrade"
   ]
  },
  {
   "cell_type": "code",
   "execution_count": null,
   "id": "969dc6f2-8fb8-47fb-a17c-2998ef817c49",
   "metadata": {},
   "outputs": [],
   "source": [
    "AMAZON_FACTORY_API= 'https://amazon.altergo.io/'\n",
    "AMAZON_IOT_API= 'https://iot.amazon.altergo.io/'\n",
    "apiKey=\"c65cd9531694143e4a747c544fe1ae7c\""
   ]
  },
  {
   "cell_type": "code",
   "execution_count": null,
   "id": "dc10d07a-f55e-4e46-872c-bf48cfe8e845",
   "metadata": {},
   "outputs": [],
   "source": [
    "import numpy as np\n",
    "import plotly.express as px\n",
    "import plotly.graph_objects as go\n",
    "from plotly.subplots import make_subplots\n",
    "from functools import reduce\n",
    "import pandas as pd\n",
    "from getpass import getpass\n",
    "import ion_sdk.edison_api.edison_api as eapi\n",
    "from ion_sdk.edison_api.models.factoryModel import EdisonGenericComponent, Model,CurrentState\n",
    "from typing import List, Optional, Union, Iterable, Callable\n"
   ]
  },
  {
   "cell_type": "markdown",
   "id": "477dcb6e-0de3-43a3-9338-4251da86ac46",
   "metadata": {
    "tags": []
   },
   "source": [
    "## Lair Functions"
   ]
  },
  {
   "cell_type": "code",
   "execution_count": null,
   "id": "fd493626-f2d4-4ec3-8f92-a206918c5d50",
   "metadata": {
    "jupyter": {
     "source_hidden": true
    },
    "tags": []
   },
   "outputs": [],
   "source": [
    "#@title Base Call for the Calendar Ageing Model (LAIR)\n",
    "\n",
    "class CalendarAging():\n",
    "\n",
    "    def __init__(self, params_dict: dict):\n",
    "        # Initialise the Cycle Aging class.\n",
    "        self._alpha = params_dict.get(\"alpha\", None)\n",
    "        if self.alpha is None:\n",
    "            self.alpha = self.alpha_function\n",
    "        self._integrate = params_dict.get(\"integrate\", None)\n",
    "        if self.integrate is None:\n",
    "            self.integrate = self.bdf1\n",
    "        self._Ea = params_dict[\"Ea\"]\n",
    "        self._z = params_dict[\"z\"]\n",
    "        if len(params_dict[\"k\"]) == 2:\n",
    "            self._k = params_dict[\"k\"]\n",
    "        else:\n",
    "            raise ValueError(\"Length of k should be 2.\")\n",
    "\n",
    "    def calibrate(self, train_df: pd.DataFrame):\n",
    "        # Function to calibrate the values of ks given the training data (x, y)\n",
    "        # Steps Description:\n",
    "        # Function to get the estimation and returning the MSE\n",
    "        # Run this in a minimizer.\n",
    "        \n",
    "        pass\n",
    "    \n",
    "    def _get_Q(self, x_data: pd.DataFrame, params):\n",
    "        # Function to calculate Q from the input_df that has been split into cycles.\n",
    "        df = x_data.copy()\n",
    "        df[\"alpha\"] = [self.alpha(params[:11], params[11], row[\"SoC\"], row[\"DoD\"], row[\"C_rate\"], row[\"T\"]) for _, row in df.iterrows()]\n",
    "        output_df = self.integrate(df, params[12])\n",
    "        return output_df[\"Q\"]\n",
    "\n",
    "    def estimate(self, input_df: pd.DataFrame, init_SoH: float = 1.0):\n",
    "        # Estimate the value of SoH given the input dataframe.\n",
    "        # Steps Description:\n",
    "        # The input dataframe contains the characteristic values (SoC, T)\n",
    "        # The dataframe is used to calculate the RHS of the differential equation.\n",
    "        # Since the characteristic values are not continuous, but rather (x,y) pairs, we cannot use a direct integration method from scipy.\n",
    "        # Thus, we manually implement BDF Order 1 (Forward Euler, easy to implement, everybody understands it). \n",
    "        # One thing to immediately note is that since the function is non-linear, BDF1 may face stability issues. \n",
    "        # Given the \"soft\" nature of the differential equation, I do not see this as a problem. However, as a back-up, we can do a higher order BDF to aid in stability, or go for AB/AB2/AM/AM2.\n",
    "        df = input_df.copy()\n",
    "        df[\"alpha\"] = [self._get_alpha(row[\"SoC\"], row[\"T\"]) for _, row in df.iterrows()]\n",
    "        output_df = self.integrate(df, self.z)\n",
    "        output_df.loc[:,\"Q\"] += init_SoH\n",
    "        output_df.loc[:,\"Q\"].fillna(init_SoH, inplace=True)\n",
    "        return output_df\n",
    "\n",
    "    def predict(self, input_df: pd.DataFrame):\n",
    "        # Predict the future value of SoH given the historic input dataframe till a particular time in the future.\n",
    "        # Steps Description:\n",
    "        # The input dataframe is already split into cycles, and the characteristic values of the cycle (SoC, DoD, C_rate, T)\n",
    "        # The cycles dataframe is extended (duplicated) further to some point in the future.\n",
    "        # The extended cycles dataframe is used to calculate the RHS of the differential equation.\n",
    "        # The steps are similar to estimate now.\n",
    "        pass\n",
    "    \n",
    "    @property\n",
    "    def alpha(self):\n",
    "        return self._alpha\n",
    "\n",
    "    @alpha.setter\n",
    "    def alpha(self, func: Callable):\n",
    "        if isinstance(func, Callable):\n",
    "            self._alpha = func\n",
    "        else:\n",
    "            raise TypeError(\"Provided alpha must be callable.\")\n",
    "            \n",
    "    @property\n",
    "    def integrate(self):\n",
    "        return self._integrate\n",
    "\n",
    "    @integrate.setter\n",
    "    def integrate(self, func: Callable):\n",
    "        if isinstance(func, Callable):\n",
    "            self._integrate = func\n",
    "        else:\n",
    "            raise TypeError(\"Provided integrate must be callable.\")\n",
    "    \n",
    "    @property\n",
    "    def Ea(self):\n",
    "        return self._Ea\n",
    "\n",
    "    @Ea.setter\n",
    "    def Ea(self, val: float):\n",
    "        self._Ea = val \n",
    "    \n",
    "    @property\n",
    "    def z(self):\n",
    "        return self._z\n",
    "\n",
    "    @z.setter\n",
    "    def z(self, val: float):\n",
    "        self._z = val\n",
    "\n",
    "    @property\n",
    "    def k(self):\n",
    "        return self._k\n",
    "\n",
    "    @k.setter\n",
    "    def k(self, val: list):\n",
    "        if isinstance(val, Iterable):\n",
    "            if len(val) == 2:\n",
    "                self._k = val\n",
    "            else:\n",
    "                raise ValueError(\"Length of Iterable provided should be 2.\")\n",
    "        else:\n",
    "            raise TypeError(f\"Cannot set k to a {type(val)}. It must be an Iterable.\")\n",
    "\n",
    "    def _get_alpha(self, SoC, T):\n",
    "        # This can be sped up by using a full-blown matrix multiplication. However, I believe this goes against the notion of \n",
    "        # having an extremely flexible function for alpha. If such is not the case, I will vectorise it.\n",
    "        return self.alpha(self.k, self.Ea, SoC, T)\n",
    "\n",
    "    # Default functions (if User does not provide a function to obtain alpha or perform integration)\n",
    "    @staticmethod\n",
    "    def bdf1(input_df: pd.DataFrame, z):\n",
    "        # Method to integrate the given the dataframe with the values of alpha and Ah throughput. The method is customised for this particular case\n",
    "        df = input_df.copy()\n",
    "        df[\"dt\"] = df[\"t\"].diff().fillna(0)\n",
    "        df[\"dQ\"] = -1 * (df[\"t\"] ** (z - 1)) * df[\"alpha\"] * z * df[\"dt\"]\n",
    "        df[\"dQ\"].fillna(0, inplace=True)\n",
    "        df[\"Q\"] = df[\"dQ\"].cumsum()\n",
    "        return df\n",
    "\n",
    "    @staticmethod\n",
    "    def alpha_function(k, Ea, SoC, T):\n",
    "        R = 8.314462\n",
    "        # Switch Case to make the piecewise SoC Function\n",
    "        if SoC < 0:\n",
    "            raise ValueError(\"SoC cannot be less than 0.\")\n",
    "        elif (SoC >=0) and (SoC <= 0.3):\n",
    "            A = k[0] * 1\n",
    "        elif (SoC > 0.3) and (SoC <= 0.6):\n",
    "            A = k[0] * 2\n",
    "        elif (SoC > 0.6) and (SoC <= 1):\n",
    "            A = k[0] * 3\n",
    "        else:\n",
    "            raise ValueError(\"SoC cannot be greater than 1.\")\n",
    "        return A * k[1] * np.exp(-Ea / R / T)"
   ]
  },
  {
   "cell_type": "code",
   "execution_count": null,
   "id": "ba956eb9-ddf7-4d8a-ad53-6bf9e7d5fb91",
   "metadata": {
    "jupyter": {
     "source_hidden": true
    },
    "tags": []
   },
   "outputs": [],
   "source": [
    "#@title Functional Execution Definitions (LAIR)\n",
    "\n",
    "def estimate_calendar_SoH(params_dict: dict, input_df: pd.DataFrame):\n",
    "    # Creates a CalendarAging class, and estimates the SoH given the input dataframe.\n",
    "    pass\n",
    "\n",
    "def predict_calendar_SoH(params_dict: dict, input_df: pd.DataFrame):\n",
    "    # Creates a CalendarAging class, and predicts the SoH given the input dataframe till a particular time in the future.\n",
    "    pass\n",
    "\n",
    "def calibrate_calendar_SoH(params_dict: dict, train_df: pd.DataFrame):\n",
    "    pass"
   ]
  },
  {
   "cell_type": "markdown",
   "id": "f500d025-bfb3-4c8d-ba83-6a58640a1430",
   "metadata": {},
   "source": [
    "## Asset fetching "
   ]
  },
  {
   "cell_type": "code",
   "execution_count": null,
   "id": "664c736d-3fe6-4d75-94dd-153d092ac44d",
   "metadata": {},
   "outputs": [],
   "source": [
    "## Connect the client\n",
    "edApi=eapi.Client(apiKey,AMAZON_FACTORY_API,AMAZON_IOT_API)"
   ]
  },
  {
   "cell_type": "code",
   "execution_count": null,
   "id": "1010edbd-e6a0-452a-8606-1c150bfe225e",
   "metadata": {},
   "outputs": [],
   "source": [
    "# Fetch the asset via serial number\n",
    "print('test')\n",
    "assets = edApi.getAssets(assetSn,20)\n",
    "asset = None\n",
    "for a in assets:\n",
    "    if a.serial_number == assetSn:\n",
    "        asset = a\n",
    "        \n",
    "print(asset.serial_number)"
   ]
  },
  {
   "cell_type": "code",
   "execution_count": null,
   "id": "4dd8af18-f4c6-45fe-8f88-51c19aada376",
   "metadata": {},
   "outputs": [],
   "source": [
    "# Check if there are children\n",
    "\n",
    "batteries = []\n",
    "\n",
    "if len(asset.current_state.child_components) > 0:\n",
    "    childs = asset.current_state.child_components\n",
    "    for c in childs:\n",
    "        if c.model.category.name == 'Battery':\n",
    "            batteries.append(c)\n",
    "\n",
    "for b in batteries:\n",
    "    print(b.serial_number)\n",
    "    "
   ]
  },
  {
   "cell_type": "code",
   "execution_count": null,
   "id": "d396e573-fdb0-4dd1-8f3c-f4f6b2de2383",
   "metadata": {
    "tags": []
   },
   "outputs": [],
   "source": [
    "startDate = \"01/01/2021\" # {\"startDate\": \"dd/mm/YYYY\"}\n",
    "endDate = \"31/12/2021\" # {\"startDate\": \"dd/mm/YYYY\"}\n",
    "\n",
    "startDate = list(map(int,startDate.split('/')))\n",
    "\n",
    "\n",
    "endDate = list(map(int,endDate.split('/')))\n"
   ]
  },
  {
   "cell_type": "code",
   "execution_count": null,
   "id": "a470c589-2ace-4ef0-8da3-138bcf8d232f",
   "metadata": {},
   "outputs": [],
   "source": [
    "print(startDate)"
   ]
  },
  {
   "cell_type": "code",
   "execution_count": null,
   "id": "356f75dd-1f58-41f2-bb65-caf78a4e18b9",
   "metadata": {},
   "outputs": [],
   "source": [
    "startDate = eapi.edisonDate(startDate[2],startDate[1],startDate[0],00,00)\n",
    "endDate = eapi.edisonDate(endDate[2],endDate[1],endDate[0],00,00)"
   ]
  },
  {
   "cell_type": "code",
   "execution_count": null,
   "id": "1fbe8f50-78c3-4406-ba68-13695f67b412",
   "metadata": {},
   "outputs": [],
   "source": [
    "sensorNameList=[\"SoC\",\"Average Cell Temperature\"]\n",
    "\n",
    "req={\n",
    "    \"assets\":batteries,\n",
    "    \"sensorNames\":sensorNameList,\n",
    "    \"startDate\":startDate,\n",
    "    \"endDate\":endDate\n",
    "        }\n",
    "edApi.getAssetDataFrame(**req)"
   ]
  },
  {
   "cell_type": "code",
   "execution_count": null,
   "id": "a092ae34-e426-461a-bd82-02e3a65cf5dd",
   "metadata": {},
   "outputs": [],
   "source": [
    "def fix_soc(x):\n",
    "    if x < 0:\n",
    "        return 0\n",
    "    elif x > 1:\n",
    "        return 1\n",
    "    else:\n",
    "        return x\n",
    "\n",
    "def fix_T(x):\n",
    "    if x < 253.2:\n",
    "        return 253.2 # Guarding against floating point error\n",
    "    elif x > 373.1:\n",
    "        return 373.1\n",
    "    else:\n",
    "        return x\n"
   ]
  },
  {
   "cell_type": "code",
   "execution_count": null,
   "id": "fcbd3665-e75c-4b11-b370-4530a691af80",
   "metadata": {},
   "outputs": [],
   "source": [
    "for bat in batteries:\n",
    "    bat.df[\"Average Cell Temperature\"] = bat.df[\"Average Cell Temperature\"] + 273.15 # Adjust Temperature\n",
    "    bat.df[\"SoC\"] /= 100 # Adjust SoC\n",
    "    bat.df[\"SoC\"] = bat.df[\"SoC\"].apply(lambda x: fix_soc(x)) # Fix SoC\n",
    "    bat.df[\"Average Cell Temperature\"] = bat.df[\"Average Cell Temperature\"].apply(lambda x: fix_T(x)) # Fix T\n",
    "    bat.df = bat.df[~((bat.df[\"SoC\"].isna()) | (bat.df[\"Average Cell Temperature\"].isna()))] # Drop any NaN rows\n",
    "    bat.df[\"T\"] = bat.df[\"Average Cell Temperature\"]\n",
    "\n",
    "#add time column in no. of days\n",
    "    if \"t\" not in bat.df.columns:\n",
    "                # Convert the index to a time column\n",
    "                bat.df.index = pd.to_datetime(bat.df.index)\n",
    "                bat.df[\"t\"] = bat.df.index.to_series().diff().dt.total_seconds().fillna(0).cumsum() / 3600 / 24 + 0.0\n",
    "\n",
    "    bat.df.drop([\"Average Cell Temperature\"], axis = 1,inplace= True)"
   ]
  },
  {
   "cell_type": "code",
   "execution_count": null,
   "id": "79658a03-c11f-4efa-9849-14905b4e0c65",
   "metadata": {},
   "outputs": [],
   "source": [
    "print(bat)\n"
   ]
  },
  {
   "cell_type": "markdown",
   "id": "c9846caa-a014-412f-9159-a20488136ff7",
   "metadata": {},
   "source": [
    "# Calendar aging parameters"
   ]
  },
  {
   "cell_type": "code",
   "execution_count": null,
   "id": "2e6e199c-4436-4a46-8597-679a51ba4baa",
   "metadata": {},
   "outputs": [],
   "source": [
    "#@title Calendar Aging Parametersa\n",
    "#  soc parameters\n",
    "a = 0.22773873\n",
    "b = 0.05369682\n",
    "c = 2.30882327\n",
    "d = -0.15441163\n",
    "e = -0.83467311\n",
    "f = 1.41733655\n",
    "\n",
    "x = np.array([ a,  b,  c, d, e , f])\n",
    "\n",
    "def f_soc(soc):\n",
    "    if soc < 0:\n",
    "        raise ValueError()\n",
    "    elif soc <= 0.1:\n",
    "        return x[0:2].dot([soc, 1])\n",
    "    elif soc <= 0.50:\n",
    "        return x[2:4].dot([soc, 1])\n",
    "    elif soc <= 1.0:\n",
    "        return x[4:6].dot([soc, 1])\n",
    "    else:\n",
    "        raise ValueError()\n",
    "\n",
    "def f_T(Ea, T):\n",
    "    R = 8.314462\n",
    "    return np.exp(-Ea / R / T) / temp_scale \n",
    "\n",
    "def new_alpha_function(k, Ea, SoC, T):\n",
    "    return k[0] * f_soc(SoC) * k[1] * f_T(Ea, T)"
   ]
  },
  {
   "cell_type": "code",
   "execution_count": null,
   "id": "837e5670-d3f5-495b-b550-b932c5e93ac1",
   "metadata": {},
   "outputs": [],
   "source": [
    "\n",
    "\n",
    "for bar in batteries:\n",
    "    Ea = 69505.17765\n",
    "    true_SoC_scale = 275495513.62328136\n",
    "    temp_scale = 1.8537064913229408e-10\n",
    "    CalModel = CalendarAging(\n",
    "        {\n",
    "            \"alpha\": new_alpha_function,\n",
    "            \"k\": [true_SoC_scale, temp_scale],\n",
    "            \"Ea\": Ea, \n",
    "            \"z\": 1.0,\n",
    "        }\n",
    "    )\n",
    "    bar.df = CalModel.estimate(bar.df, init_SoH=1.0)"
   ]
  },
  {
   "cell_type": "code",
   "execution_count": null,
   "id": "6fd6b35b-d734-4312-9197-0dd728c87847",
   "metadata": {},
   "outputs": [],
   "source": [
    "def getDtSn(sn):\n",
    "    dtSn = sn +('-DT')\n",
    "    return dtSn"
   ]
  },
  {
   "cell_type": "code",
   "execution_count": null,
   "id": "858f563d-4a0c-44f2-9aff-1965e6ddc1c1",
   "metadata": {},
   "outputs": [],
   "source": [
    "for bat in batteries:\n",
    "    newSn = bat.serial_number + '-DT'\n",
    "    print(newSn)\n",
    "    edApi.createAssetBySerial('rack',newSn)"
   ]
  },
  {
   "cell_type": "code",
   "execution_count": null,
   "id": "2384bedd-c0fb-4831-a537-97c8b414a10d",
   "metadata": {},
   "outputs": [],
   "source": [
    "digitalTwinAssets = []\n",
    "for bat in batteries :\n",
    "    dtSn = getDtSn(bat.serial_number) \n",
    "    digitalTwinAssets.append(edApi.getAsset(dtSn))\n",
    "\n",
    "for dt in digitalTwinAssets:\n",
    "    print(dt.serial_number)"
   ]
  },
  {
   "cell_type": "code",
   "execution_count": null,
   "id": "a15bbb88-731a-4347-b3c0-bb4870865819",
   "metadata": {},
   "outputs": [],
   "source": [
    "for bat in batteries:\n",
    "    for dt in digitalTwinAssets:\n",
    "        if bat.serial_number in dt.serial_number:\n",
    "            bat.df[\"SoH\"] = bat.df[\"Q\"]\n",
    "            dt.df = bat.df\n",
    "            uploadSensorList = [\"SoH\"]\n",
    "            edApi.updateSensorDataByFile(dt, uploadSensorList)"
   ]
  },
  {
   "cell_type": "code",
   "execution_count": null,
   "id": "faa4a981-06dc-4e17-a6ea-4dea6a68f67e",
   "metadata": {},
   "outputs": [],
   "source": [
    "import plotly.graph_objects as go\n",
    "from plotly.subplots import make_subplots\n",
    "from matplotlib import pyplot as plt\n",
    "import matplotlib as mpl\n",
    "from matplotlib.offsetbox import AnchoredText\n",
    "%matplotlib inline"
   ]
  },
  {
   "cell_type": "code",
   "execution_count": null,
   "id": "1b0a76ba-6a30-4466-8392-9f5b6b2e6fff",
   "metadata": {},
   "outputs": [],
   "source": [
    "for bat in batteries:\n",
    "    #@title Plotting\n",
    "    fig = make_subplots(rows = 1, cols = 1, shared_xaxes=True)\n",
    "    # Plot everything\n",
    "    fig.add_trace(\n",
    "        go.Scatter(\n",
    "            x = bat.df.index,\n",
    "            y = bat.df[\"SoH\"],\n",
    "            name = \" Calendar Aging\"\n",
    "        ),\n",
    "        row = 1,\n",
    "        col = 1,\n",
    "    )\n",
    "    fig.show()"
   ]
  }
 ],
 "metadata": {
  "kernelspec": {
   "display_name": "Python 3 (ipykernel)",
   "language": "python",
   "name": "python3"
  },
  "language_info": {
   "codemirror_mode": {
    "name": "ipython",
    "version": 3
   },
   "file_extension": ".py",
   "mimetype": "text/x-python",
   "name": "python",
   "nbconvert_exporter": "python",
   "pygments_lexer": "ipython3",
   "version": "3.9.5"
  }
 },
 "nbformat": 4,
 "nbformat_minor": 5
}
