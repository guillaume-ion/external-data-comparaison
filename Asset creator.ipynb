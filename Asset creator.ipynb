{
 "cells": [
  {
   "cell_type": "code",
   "execution_count": 2,
   "id": "2b8281ee-f0dc-4d11-a77f-b242109536c0",
   "metadata": {
    "tags": [
     "parameters"
    ]
   },
   "outputs": [],
   "source": [
    "#Input parameters\n",
    "powerPlantSerial = \"JPP-2\" # {\"powerPlantSerial\": \"JPP-2\"}\n",
    "model = \"Green power plant\"\n",
    "panelSurface = 10000\n",
    "panelEfficiency = 0.2"
   ]
  },
  {
   "cell_type": "code",
   "execution_count": 3,
   "id": "026e4d07",
   "metadata": {
    "scrolled": true
   },
   "outputs": [
    {
     "name": "stdout",
     "output_type": "stream",
     "text": [
      "env: ALTERGO_FACTORY_API=https://staging.altergo.io/\n",
      "env: ALTERGO_IOT_API=https://iot.staging.altergo.io/\n"
     ]
    }
   ],
   "source": [
    "!pip install -qqq --upgrade git+https://bitbucket.org/freemens/ion_sdk.git@master    \n",
    "%env ALTERGO_FACTORY_API = https://staging.altergo.io/\n",
    "%env ALTERGO_IOT_API = https://iot.staging.altergo.io/   "
   ]
  },
  {
   "cell_type": "code",
   "execution_count": 4,
   "id": "a674a3bc",
   "metadata": {},
   "outputs": [],
   "source": [
    "import pandas as pd\n",
    "import matplotlib.pyplot as plt\n",
    "import ion_sdk.edison_api.edison_api as eapi\n",
    "import datetime\n",
    "from ion_sdk.edison_api.models.factoryModel import EdisonGenericComponent, Model,CurrentState\n",
    "\n",
    "edApi=eapi.Client(\"f6ad4f7166814976b66b9cb346ebc5dd\")"
   ]
  },
  {
   "cell_type": "code",
   "execution_count": 9,
   "id": "6c508036",
   "metadata": {
    "scrolled": true
   },
   "outputs": [],
   "source": [
    "Serial_number = powerPlantSerial\n",
    "Model_name= model\n",
    "asset=edApi.getAsset(serial)"
   ]
  },
  {
   "cell_type": "code",
   "execution_count": 10,
   "id": "e64db061-d206-4c23-939b-5f64db5f866b",
   "metadata": {},
   "outputs": [
    {
     "name": "stdout",
     "output_type": "stream",
     "text": [
      "{'status': 1, 'message': 'Component Added', 'content': [{'id': 322, 'serialNumber': 'JPP-2', 'dataIngestionQueueNumber': None, 'lastDataIngestionDate': None, 'componentModel': {'id': 17, 'name': 'Green power plant', 'viewTemplate': None, 'isConfigurable': False, 'configurationType': None, 'category': {'id': 2, 'name': 'Battery'}}, 'currentState': {'id': 324, 'location': 'Unknown', 'description': 'First upload', 'data': '', 'event': None, 'datetime': {'date': '2021-10-25 14:39:55.000000', 'timezone_type': 3, 'timezone': 'UTC'}, 'childComponents': []}, 'componentStates': [{'id': 324, 'location': 'Unknown', 'description': 'First upload', 'data': '', 'event': None, 'datetime': {'date': '2021-10-25 14:39:55.000000', 'timezone_type': 3, 'timezone': 'UTC'}, 'status': {'id': 19, 'name': 'In Use', 'type': None}, 'statusFunctional': {'id': 1, 'name': 'Available', 'type': None}, 'statusExistential': {'id': 12, 'name': 'Partial', 'type': None}, 'owner': {'isPhysicalPerson': False, 'id': 19, 'lastname': 'City of Bâle', 'forname': 'City of Bâle', 'title': None, 'courtesyTitle': None, 'birthdate': None, 'company': {'id': 5, 'name': 'City of Bâle', 'website': 'http://', 'registrationCode': '887fcc995a34cc89f079af54aa733dbb', 'apiKey': 'a42b898f828f133dc3dcc6a7cbdfcac7', 'isEnabled': True, 'isAuthenticationRequiredForBms': True, 'type': 'Licensees'}}, 'managers': [{'id': 5, 'name': 'City of Bâle', 'website': 'http://', 'registrationCode': '887fcc995a34cc89f079af54aa733dbb', 'apiKey': 'a42b898f828f133dc3dcc6a7cbdfcac7', 'isEnabled': True, 'isAuthenticationRequiredForBms': True, 'type': 'Licensees'}]}]}]}\n"
     ]
    }
   ],
   "source": [
    "resp=edApi.createAssetBySerial(Model_name,Serial_number)\n",
    "print(resp)"
   ]
  },
  {
   "cell_type": "code",
   "execution_count": 17,
   "id": "73992d69-13e3-482c-a9ce-da72167fe7de",
   "metadata": {},
   "outputs": [
    {
     "name": "stdout",
     "output_type": "stream",
     "text": [
      "EdisonComponent(id=322, serial_number='JPP-2', iot_data=None, model=Model(id=17, name='Green power plant', is_configurable=False, configuration_type=None, view_template=None, category=Category(id=2, name='Battery'), image=Image(id=7, name=None, file='bb2e7497346f13a2b44e953ddde9564f.jpeg'), configurations=[], parameters=[Parameter(id=18, parameter_model=ParameterModel(id=102, name='Surface', si_unit=Category(id=23, name='m²')), parameter_values=[ParameterValue(id=20, value='1000', parameter_name_prefix=Category(id=2, name='Avg'), si_prefix=SiPrefix(id=5, name='', value=1.0))])], sensors=[Sensor(name=None, plotly_js=None, array_map='1', id=33, format=None, sensor_model=SensorModel(code='fec', id=20, name='Production potential', mapping='custom', unit='W', type=<TypeEnum.FLOAT: 'float'>, data_structure=<DataStructure.ARRAY: 'array'>, scale=1.0, is_virtual=False, virtual_expression=''), ranges=[]), Sensor(name=None, plotly_js=None, array_map='1', id=38, format=None, sensor_model=SensorModel(code='cB4', id=21, name='Production actual', mapping='custom', unit='W', type=<TypeEnum.FLOAT: 'float'>, data_structure=<DataStructure.ARRAY: 'array'>, scale=1.0, is_virtual=False, virtual_expression=''), ranges=[]), Sensor(name=None, plotly_js=None, array_map='1', id=39, format=None, sensor_model=SensorModel(code='1Ip', id=19, name='Demand potential', mapping='custom', unit='W', type=<TypeEnum.FLOAT: 'float'>, data_structure=<DataStructure.ARRAY: 'array'>, scale=1.0, is_virtual=False, virtual_expression=''), ranges=[]), Sensor(name=None, plotly_js=None, array_map='1', id=40, format=None, sensor_model=SensorModel(code='XEw', id=22, name='Theroretical energy balance', mapping='custom', unit='W', type=<TypeEnum.FLOAT: 'float'>, data_structure=<DataStructure.ARRAY: 'array'>, scale=1.0, is_virtual=True, virtual_expression='(cB4) - (1Ip)'), ranges=[]), Sensor(name=None, plotly_js=None, array_map='1', id=41, format=None, sensor_model=SensorModel(code='aXV', id=23, name='Power', mapping='custom', unit='W', type=<TypeEnum.FLOAT: 'float'>, data_structure=<DataStructure.ARRAY: 'array'>, scale=1.0, is_virtual=False, virtual_expression=''), ranges=[])], child_component_models=None), current_state=CurrentState(id=324, location='Unknown', description='First upload', current_state_datetime=Datetime(date=datetime.datetime(2021, 10, 25, 14, 39, 55), timezone_type=3, timezone='UTC'), status=Status(id=19, name='In Use', type=None), status_existential=Status(id=12, name='Partial', type=None), status_functional=Status(id=1, name='Available', type=None)), tags=[], df=None, dfList=[])\n"
     ]
    }
   ],
   "source": [
    "Serial_number=powerPlantSerial\n",
    "asset=edApi.getAsset(Serial_number)\n",
    "\n",
    "print(asset)"
   ]
  },
  {
   "cell_type": "code",
   "execution_count": 16,
   "id": "fb1db029-b2e8-4c1e-9e69-874c98f6c4cd",
   "metadata": {},
   "outputs": [
    {
     "name": "stdout",
     "output_type": "stream",
     "text": [
      "[Parameter(id=18, parameter_model=ParameterModel(id=102, name='Surface', si_unit=Category(id=23, name='m²')), parameter_values=[ParameterValue(id=20, value='1000', parameter_name_prefix=Category(id=2, name='Avg'), si_prefix=SiPrefix(id=5, name='', value=1.0))])]\n"
     ]
    }
   ],
   "source": [
    "print(asset.model.parameters)"
   ]
  },
  {
   "cell_type": "code",
   "execution_count": null,
   "id": "b26f3b72-b2bd-4a8a-8f12-e57b45bc51b6",
   "metadata": {},
   "outputs": [],
   "source": []
  }
 ],
 "metadata": {
  "kernelspec": {
   "display_name": "Python 3",
   "language": "python",
   "name": "python3"
  },
  "language_info": {
   "codemirror_mode": {
    "name": "ipython",
    "version": 3
   },
   "file_extension": ".py",
   "mimetype": "text/x-python",
   "name": "python",
   "nbconvert_exporter": "python",
   "pygments_lexer": "ipython3",
   "version": "3.8.8"
  }
 },
 "nbformat": 4,
 "nbformat_minor": 5
}
