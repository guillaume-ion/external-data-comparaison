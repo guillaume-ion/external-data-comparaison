{
 "cells": [
  {
   "cell_type": "code",
   "execution_count": 1,
   "id": "2b8281ee-f0dc-4d11-a77f-b242109536c0",
   "metadata": {
    "tags": [
     "parameters"
    ]
   },
   "outputs": [],
   "source": [
    "#Input parameters\n",
    "powerPlantSerial = \"JPP-3\" # {\"powerPlantSerial\": \"JPP-2\"}\n",
    "model = \"Green power plant\" # {\"model\": \"Green power plant\"}"
   ]
  },
  {
   "cell_type": "code",
   "execution_count": 1,
   "id": "026e4d07",
   "metadata": {
    "scrolled": true
   },
   "outputs": [
    {
     "name": "stdout",
     "output_type": "stream",
     "text": [
      "Requirement already satisfied: pandas in c:\\users\\gcoll\\anaconda3\\lib\\site-packages (1.2.4)\n",
      "Requirement already satisfied: pytz>=2017.3 in c:\\users\\gcoll\\anaconda3\\lib\\site-packages (from pandas) (2021.1)\n",
      "Requirement already satisfied: numpy>=1.16.5 in c:\\users\\gcoll\\anaconda3\\lib\\site-packages (from pandas) (1.20.1)\n",
      "Requirement already satisfied: python-dateutil>=2.7.3 in c:\\users\\gcoll\\anaconda3\\lib\\site-packages (from pandas) (2.8.1)\n",
      "Requirement already satisfied: six>=1.5 in c:\\users\\gcoll\\anaconda3\\lib\\site-packages (from python-dateutil>=2.7.3->pandas) (1.15.0)\n",
      "env: ALTERGO_FACTORY_API=https://staging.altergo.io/\n",
      "env: ALTERGO_IOT_API=https://iot.staging.altergo.io/\n"
     ]
    }
   ],
   "source": [
    "!pip install --upgrad pandas\n",
    "!pip install --upgrade git+https://bitbucket.org/freemens/ion_sdk.git@master    \n",
    "%env ALTERGO_FACTORY_API = https://staging.altergo.io/\n",
    "%env ALTERGO_IOT_API = https://iot.staging.altergo.io/   "
   ]
  },
  {
   "cell_type": "code",
   "execution_count": 3,
   "id": "a674a3bc",
   "metadata": {},
   "outputs": [],
   "source": [
    "import ion_sdk.edison_api.edison_api as eapi"
   ]
  },
  {
   "cell_type": "code",
   "execution_count": 4,
   "id": "29e545d1-e35a-49bb-b3b9-285aef7eb36e",
   "metadata": {},
   "outputs": [],
   "source": [
    "edApi=eapi.Client(\"f6ad4f7166814976b66b9cb346ebc5dd\")"
   ]
  },
  {
   "cell_type": "code",
   "execution_count": 5,
   "id": "6c508036",
   "metadata": {
    "scrolled": true
   },
   "outputs": [],
   "source": [
    "Serial_number = powerPlantSerial\n",
    "Model_name= model"
   ]
  },
  {
   "cell_type": "code",
   "execution_count": 6,
   "id": "e64db061-d206-4c23-939b-5f64db5f866b",
   "metadata": {},
   "outputs": [],
   "source": [
    "resp=edApi.createAssetBySerial(Model_name,Serial_number)"
   ]
  }
 ],
 "metadata": {
  "kernelspec": {
   "display_name": "Python 3 (ipykernel)",
   "language": "python",
   "name": "python3"
  },
  "language_info": {
   "codemirror_mode": {
    "name": "ipython",
    "version": 3
   },
   "file_extension": ".py",
   "mimetype": "text/x-python",
   "name": "python",
   "nbconvert_exporter": "python",
   "pygments_lexer": "ipython3",
   "version": "3.9.5"
  }
 },
 "nbformat": 4,
 "nbformat_minor": 5
}
