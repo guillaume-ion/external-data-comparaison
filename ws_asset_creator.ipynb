{
 "cells": [
  {
   "cell_type": "code",
   "execution_count": 3,
   "id": "2e7ee268-395a-4761-881e-ab3b7cba516d",
   "metadata": {},
   "outputs": [
    {
     "ename": "ModuleNotFoundError",
     "evalue": "No module named 'lair'",
     "output_type": "error",
     "traceback": [
      "\u001b[1;31m---------------------------------------------------------------------------\u001b[0m",
      "\u001b[1;31mModuleNotFoundError\u001b[0m                       Traceback (most recent call last)",
      "\u001b[1;32m~\\AppData\\Local\\Temp/ipykernel_26164/3179821513.py\u001b[0m in \u001b[0;36m<module>\u001b[1;34m\u001b[0m\n\u001b[1;32m----> 1\u001b[1;33m \u001b[1;32mfrom\u001b[0m \u001b[0mlair\u001b[0m\u001b[1;33m.\u001b[0m\u001b[0mcomponents\u001b[0m\u001b[1;33m.\u001b[0m\u001b[0mbattery_iq\u001b[0m\u001b[1;33m.\u001b[0m\u001b[0msoh\u001b[0m \u001b[1;32mimport\u001b[0m \u001b[0mSoh_Calendar_Ageing\u001b[0m\u001b[1;33m\u001b[0m\u001b[1;33m\u001b[0m\u001b[0m\n\u001b[0m",
      "\u001b[1;31mModuleNotFoundError\u001b[0m: No module named 'lair'"
     ]
    }
   ],
   "source": []
  },
  {
   "cell_type": "code",
   "execution_count": 4,
   "id": "3cc2bac3-14d0-4857-8142-8e298e1ed5a1",
   "metadata": {},
   "outputs": [
    {
     "name": "stdout",
     "output_type": "stream",
     "text": [
      "Collecting git+https://bitbucket.org/freemens/ion_sdk.git@assembly\n",
      "  Cloning https://bitbucket.org/freemens/ion_sdk.git (to revision assembly) to c:\\users\\gcoll\\appdata\\local\\temp\\pip-req-build-lz6j8cdy\n",
      "  Resolved https://bitbucket.org/freemens/ion_sdk.git to commit f969dc5661c0ced4027a2453c9b91d2b59efffa7\n",
      "  Preparing metadata (setup.py): started\n",
      "  Preparing metadata (setup.py): finished with status 'done'\n",
      "Requirement already satisfied: uplink==0.9.1 in c:\\python39\\lib\\site-packages (from ion-sdk==0.3.1) (0.9.1)\n",
      "Requirement already satisfied: pandas in c:\\python39\\lib\\site-packages (from ion-sdk==0.3.1) (1.3.4)\n",
      "Requirement already satisfied: numpy in c:\\python39\\lib\\site-packages (from ion-sdk==0.3.1) (1.21.3)\n",
      "Requirement already satisfied: scipy in c:\\python39\\lib\\site-packages (from ion-sdk==0.3.1) (1.7.1)\n",
      "Requirement already satisfied: python-dateutil in c:\\python39\\lib\\site-packages (from ion-sdk==0.3.1) (2.8.1)\n",
      "Requirement already satisfied: tabulate in c:\\python39\\lib\\site-packages (from ion-sdk==0.3.1) (0.8.9)\n",
      "Requirement already satisfied: matplotlib in c:\\python39\\lib\\site-packages (from ion-sdk==0.3.1) (3.4.3)\n",
      "Requirement already satisfied: fuzzywuzzy in c:\\python39\\lib\\site-packages (from ion-sdk==0.3.1) (0.18.0)\n",
      "Requirement already satisfied: plotly in c:\\python39\\lib\\site-packages (from ion-sdk==0.3.1) (5.3.1)\n",
      "Requirement already satisfied: python-Levenshtein in c:\\python39\\lib\\site-packages (from ion-sdk==0.3.1) (0.12.2)\n",
      "Requirement already satisfied: tqdm in c:\\python39\\lib\\site-packages (from ion-sdk==0.3.1) (4.62.3)\n",
      "Requirement already satisfied: requests>=2.18.0 in c:\\python39\\lib\\site-packages (from uplink==0.9.1->ion-sdk==0.3.1) (2.25.1)\n",
      "Requirement already satisfied: uritemplate>=3.0.0 in c:\\python39\\lib\\site-packages (from uplink==0.9.1->ion-sdk==0.3.1) (4.1.1)\n",
      "Requirement already satisfied: six>=1.12.0 in c:\\python39\\lib\\site-packages (from uplink==0.9.1->ion-sdk==0.3.1) (1.16.0)\n",
      "Requirement already satisfied: kiwisolver>=1.0.1 in c:\\python39\\lib\\site-packages (from matplotlib->ion-sdk==0.3.1) (1.3.2)\n",
      "Requirement already satisfied: cycler>=0.10 in c:\\python39\\lib\\site-packages (from matplotlib->ion-sdk==0.3.1) (0.11.0)\n",
      "Requirement already satisfied: pyparsing>=2.2.1 in c:\\python39\\lib\\site-packages (from matplotlib->ion-sdk==0.3.1) (2.4.7)\n",
      "Requirement already satisfied: pillow>=6.2.0 in c:\\python39\\lib\\site-packages (from matplotlib->ion-sdk==0.3.1) (8.4.0)\n",
      "Requirement already satisfied: pytz>=2017.3 in c:\\python39\\lib\\site-packages (from pandas->ion-sdk==0.3.1) (2021.3)\n",
      "Requirement already satisfied: tenacity>=6.2.0 in c:\\python39\\lib\\site-packages (from plotly->ion-sdk==0.3.1) (8.0.1)\n",
      "Requirement already satisfied: setuptools in c:\\python39\\lib\\site-packages (from python-Levenshtein->ion-sdk==0.3.1) (56.0.0)\n",
      "Requirement already satisfied: colorama in c:\\python39\\lib\\site-packages (from tqdm->ion-sdk==0.3.1) (0.4.4)\n",
      "Requirement already satisfied: idna<3,>=2.5 in c:\\python39\\lib\\site-packages (from requests>=2.18.0->uplink==0.9.1->ion-sdk==0.3.1) (2.10)\n",
      "Requirement already satisfied: certifi>=2017.4.17 in c:\\python39\\lib\\site-packages (from requests>=2.18.0->uplink==0.9.1->ion-sdk==0.3.1) (2021.5.30)\n",
      "Requirement already satisfied: urllib3<1.27,>=1.21.1 in c:\\python39\\lib\\site-packages (from requests>=2.18.0->uplink==0.9.1->ion-sdk==0.3.1) (1.26.6)\n",
      "Requirement already satisfied: chardet<5,>=3.0.2 in c:\\python39\\lib\\site-packages (from requests>=2.18.0->uplink==0.9.1->ion-sdk==0.3.1) (4.0.0)\n"
     ]
    },
    {
     "name": "stderr",
     "output_type": "stream",
     "text": [
      "  Running command git clone --filter=blob:none -q https://bitbucket.org/freemens/ion_sdk.git 'C:\\Users\\gcoll\\AppData\\Local\\Temp\\pip-req-build-lz6j8cdy'\n",
      "  warning: filtering not recognized by server, ignoring\n",
      "  Running command git checkout -b assembly --track origin/assembly\n",
      "  Branch 'assembly' set up to track remote branch 'assembly' from 'origin'.\n",
      "  Switched to a new branch 'assembly'\n",
      "WARNING: You are using pip version 21.3.1; however, version 22.0.3 is available.\n",
      "You should consider upgrading via the 'c:\\python39\\python.exe -m pip install --upgrade pip' command.\n"
     ]
    }
   ],
   "source": [
    "!pip install --upgrade git+https://bitbucket.org/freemens/ion_sdk.git@assembly"
   ]
  },
  {
   "cell_type": "code",
   "execution_count": 1,
   "id": "2b8281ee-f0dc-4d11-a77f-b242109536c0",
   "metadata": {
    "tags": [
     "parameters"
    ]
   },
   "outputs": [],
   "source": [
    "#Input parameters\n",
    "serialNumber = \"SN-0\" # {\"serialNumber\": \"JPP-2\"}\n",
    "modelName = \"Weather station\"# {\"modelName\": \"Green power plant\"}\n",
    "\n",
    "# {\"serialNumber\": \"JPP-2\",\"modelName\": \"Green power plant\"}"
   ]
  },
  {
   "cell_type": "code",
   "execution_count": null,
   "id": "026e4d07",
   "metadata": {
    "scrolled": true
   },
   "outputs": [],
   "source": [
    "#pip install --upgrade git+https://bitbucket.org/freemens/ion_sdk.git@master    \n",
    "%env ALTERGO_FACTORY_API = https://staging.altergo.io/\n",
    "%env ALTERGO_IOT_API = https://iot.staging.altergo.io/   "
   ]
  },
  {
   "cell_type": "code",
   "execution_count": 2,
   "id": "a674a3bc",
   "metadata": {},
   "outputs": [],
   "source": [
    "import ion_sdk.edison_api.edison_api as eapi"
   ]
  },
  {
   "cell_type": "code",
   "execution_count": null,
   "id": "29e545d1-e35a-49bb-b3b9-285aef7eb36e",
   "metadata": {},
   "outputs": [],
   "source": [
    "edApi=eapi.Client(\"f6ad4f7166814976b66b9cb346ebc5dd\")"
   ]
  },
  {
   "cell_type": "code",
   "execution_count": null,
   "id": "6c508036",
   "metadata": {
    "scrolled": true
   },
   "outputs": [],
   "source": [
    "Serial_number = serialNumber\n",
    "Model_name= modelName"
   ]
  },
  {
   "cell_type": "code",
   "execution_count": null,
   "id": "e64db061-d206-4c23-939b-5f64db5f866b",
   "metadata": {},
   "outputs": [],
   "source": [
    "resp=edApi.createAssetBySerial(Model_name,Serial_number)"
   ]
  }
 ],
 "metadata": {
  "kernelspec": {
   "display_name": "Python 3 (ipykernel)",
   "language": "python",
   "name": "python3"
  },
  "language_info": {
   "codemirror_mode": {
    "name": "ipython",
    "version": 3
   },
   "file_extension": ".py",
   "mimetype": "text/x-python",
   "name": "python",
   "nbconvert_exporter": "python",
   "pygments_lexer": "ipython3",
   "version": "3.9.5"
  }
 },
 "nbformat": 4,
 "nbformat_minor": 5
}
