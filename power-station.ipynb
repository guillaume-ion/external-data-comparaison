{
 "cells": [
  {
   "cell_type": "code",
   "execution_count": null,
   "id": "d12ceeb2",
   "metadata": {
    "tags": [
     "parameters"
    ]
   },
   "outputs": [],
   "source": [
    "#Input parameters\n",
    "weatherStationSerial = \"BWEATHER-1\"\n",
    "citySerial = \"Loudeac\"\n",
    "pPlantSerial = \"JPP-1\"\n",
    "batterySerial = \"BAT-1\"\n",
    "\n",
    "#Example parameter string for default parameters {\"weatherStationSerial\":\"BWEATHER-1\",\"citySerial\":\"Loudeac\",\"pPlantSerial\":\"JPP-1\",\"batterySerial\":\"BAT-1\"}"
   ]
  },
  {
   "cell_type": "code",
   "execution_count": null,
   "id": "984af428",
   "metadata": {},
   "outputs": [],
   "source": [
    "#!pip install -qqq --upgrade git+https://alroc@bitbucket.org/freemens/ionlib.git@master"
   ]
  },
  {
   "cell_type": "code",
   "execution_count": null,
   "id": "f6f58824",
   "metadata": {},
   "outputs": [],
   "source": [
    "!pip install -qqq --upgrade git+https://bitbucket.org/freemens/ion_sdk.git@master"
   ]
  },
  {
   "cell_type": "code",
   "execution_count": null,
   "id": "d48f7031-a279-4bd4-8245-7a3eae48ae43",
   "metadata": {},
   "outputs": [],
   "source": [
    "!pip install -qqq --upgrade pandas\n",
    "!pip install -qqq --upgrade numpy"
   ]
  },
  {
   "cell_type": "code",
   "execution_count": null,
   "id": "5c31044f",
   "metadata": {},
   "outputs": [],
   "source": [
    "%env ALTERGO_FACTORY_API = https://staging.altergo.io/\n",
    "%env ALTERGO_IOT_API = https://iot.staging.altergo.io/   "
   ]
  },
  {
   "cell_type": "code",
   "execution_count": null,
   "id": "cc70aa9e",
   "metadata": {},
   "outputs": [],
   "source": [
    "from ionlib.models.battery import Battery, Cell, LEVEL_MODULE\n",
    "from ionlib.models.powerplant import PowerPlant \n",
    "import pandas as pd\n",
    "import ion_sdk.edison_api.edison_api as eapi\n",
    "from ion_sdk.edison_api.models.factoryModel import EdisonGenericComponent, Model,CurrentState\n",
    "from ion_sdk.tools.toolbox import plotSensors, dataframeFromSensors\n",
    "from ion_sdk.tools.sim import Sensor\n",
    "import datetime\n",
    "from datetime import datetime\n",
    "import math\n",
    "from ionlib.specs.powerplant_specs import simSpecs\n"
   ]
  },
  {
   "cell_type": "code",
   "execution_count": null,
   "id": "1ef04389",
   "metadata": {},
   "outputs": [],
   "source": [
    "edApi = eapi.Client(\"f6ad4f7166814976b66b9cb346ebc5dd\")"
   ]
  },
  {
   "cell_type": "code",
   "execution_count": null,
   "id": "0ec7c0e3-3c3d-47d7-8066-0d72eba60f47",
   "metadata": {},
   "outputs": [],
   "source": [
    "batteryAsset = edApi.getAsset(batterySerial)\n",
    "\n",
    "batteryVoltage = 400\n",
    "batteryCapacity = 50\n",
    "neededParameters = [\"Voltage\",\"Capacity\"]\n",
    "parameterDict = {}\n",
    "for param in batteryAsset.model.parameters:\n",
    "    if param.parameter_model.name in neededParameters:\n",
    "        parameterDict[param.parameter_model.name] = param.parameter_values[0].value\n"
   ]
  },
  {
   "cell_type": "code",
   "execution_count": null,
   "id": "b6cb5437-f99b-4183-a8d8-e54c06ca875d",
   "metadata": {},
   "outputs": [],
   "source": [
    "moduleInSeries = float(parameterDict[\"Voltage\"])/float(simSpecs['cell']['voltage']) / float(simSpecs['architecture']['cellsSeries'])\n",
    "moduleInSeries = math.ceil(moduleInSeries)\n",
    "\n",
    "moduleInPar=float(parameterDict[\"Capacity\"])/float(simSpecs['cell']['cellCapacity'])/14\n",
    "moduleInPar = math.ceil(moduleInPar)\n",
    "\n",
    "simSpecs['architecture'][\"modulesSeries\"] = moduleInSeries\n",
    "simSpecs['architecture'][\"modulesParallel\"] = moduleInPar"
   ]
  },
  {
   "cell_type": "code",
   "execution_count": null,
   "id": "5f97d965",
   "metadata": {
    "tags": []
   },
   "outputs": [],
   "source": [
    "weatherStationAsset = edApi.getAsset(weatherStationSerial)\n",
    "sensorNameList = edApi.matchSensors([\"Direct radiation\"],weatherStationAsset)\n",
    "req={\n",
    "    \"assets\":[weatherStationAsset],\n",
    "    \"sensorNames\":sensorNameList,\n",
    "    \"startDate\":eapi.edisonDate(2021,10,7,2,00),\n",
    "    \"endDate\":eapi.edisonDate(2021,10,15,1,00)\n",
    "        }\n",
    "\n",
    "edApi.getAssetDataFrame(**req)\n",
    "\n",
    "weatherStationDf = weatherStationAsset.df"
   ]
  },
  {
   "cell_type": "code",
   "execution_count": null,
   "id": "abb9ceac-16a4-4c2f-8232-bedc4020ca05",
   "metadata": {},
   "outputs": [],
   "source": [
    "powerPlantAsset = edApi.getAsset(pPlantSerial)\n",
    "solarPanelSurface = powerPlantAsset.model.parameters[0].parameter_values[0].value"
   ]
  },
  {
   "cell_type": "code",
   "execution_count": null,
   "id": "dbacdd3d",
   "metadata": {},
   "outputs": [],
   "source": [
    "cityAsset = edApi.getAsset(citySerial)\n",
    "sensorNameList = edApi.matchSensors([\"Power\"],cityAsset)\n",
    "req={\n",
    "    \"assets\":[cityAsset],\n",
    "    \"sensorNames\":sensorNameList,\n",
    "    \"startDate\":eapi.edisonDate(2021,10,7,2,00),\n",
    "    \"endDate\":eapi.edisonDate(2021,10,15,1,00)\n",
    "        }\n",
    "\n",
    "edApi.getAssetDataFrame(**req)\n",
    "\n",
    "cityDf = cityAsset.df"
   ]
  },
  {
   "cell_type": "code",
   "execution_count": null,
   "id": "d98dae04",
   "metadata": {
    "scrolled": true
   },
   "outputs": [],
   "source": [
    "SIM_TARGETED_DEPTH = LEVEL_MODULE\n",
    "simTime = simSpecs[\"start\"] + 3600 * 24 * 7\n",
    "t = simSpecs[\"start\"]\n",
    "dt_s = 60.0\n",
    "prev_dt_s = 60.0\n",
    "time = []\n",
    "\n",
    "pPlant = PowerPlant(sourceProfile = weatherStationDf, loadProfile = cityDf, simSpecs = simSpecs)\n",
    "\n",
    "pPlant.solarArray.surface = float(solarPanelSurface)"
   ]
  },
  {
   "cell_type": "code",
   "execution_count": null,
   "id": "5b6101eb",
   "metadata": {
    "scrolled": true
   },
   "outputs": [],
   "source": [
    "analysedElements = []\n",
    "pPlant.battery.getElementsByDepth(analysedElements, SIM_TARGETED_DEPTH)"
   ]
  },
  {
   "cell_type": "code",
   "execution_count": null,
   "id": "93096a88",
   "metadata": {},
   "outputs": [],
   "source": [
    "pPlantSensors = {}\n",
    "batterySensors = {}\n",
    "loadSensors = {}\n",
    "\n",
    "pPlantSensors[\"production potential\"] = Sensor(\n",
    "    **{\n",
    "        \"data\": [],\n",
    "        \"time\": [],\n",
    "        \"lastSigVal\": 0.0,\n",
    "        \"sigVarTh\": 0.001,\n",
    "        \"unit\": \"°\",\n",
    "        \"axis\": 1,\n",
    "        \"synced\": 1,\n",
    "        \"plotted\": 1,\n",
    "    }\n",
    ")\n",
    "pPlantSensors[\"demand potential\"] = Sensor(\n",
    "    **{\n",
    "        \"data\": [],\n",
    "        \"time\": [],\n",
    "        \"lastSigVal\": 0.0,\n",
    "        \"sigVarTh\": 0.001,\n",
    "        \"unit\": \"°\",\n",
    "        \"axis\": 1,\n",
    "        \"synced\": 1,\n",
    "        \"plotted\": 1,\n",
    "    }\n",
    ")\n",
    "pPlantSensors[\"production actual\"] = Sensor(\n",
    "    **{\n",
    "        \"data\": [],\n",
    "        \"time\": [],\n",
    "        \"lastSigVal\": 0.0,\n",
    "        \"sigVarTh\": 0.001,\n",
    "        \"unit\": \"°\",\n",
    "        \"axis\": 1,\n",
    "        \"synced\": 1,\n",
    "        \"plotted\": 1,\n",
    "    }\n",
    ")\n",
    "pPlantSensors[\"power\"] = Sensor(\n",
    "    **{\n",
    "        \"data\": [],\n",
    "        \"time\": [],\n",
    "        \"lastSigVal\": 0.0,\n",
    "        \"sigVarTh\": 0.001,\n",
    "        \"unit\": \"°\",\n",
    "        \"axis\": 1,\n",
    "        \"synced\": 1,\n",
    "        \"plotted\": 1,\n",
    "    }\n",
    ")\n"
   ]
  },
  {
   "cell_type": "code",
   "execution_count": null,
   "id": "2696f140",
   "metadata": {},
   "outputs": [],
   "source": [
    "batterySensors[\"current\"] = Sensor(\n",
    "    **{\n",
    "        \"data\": [],\n",
    "        \"time\": [],\n",
    "        \"lastSigVal\": 0.0,\n",
    "        \"sigVarTh\": 0.001,\n",
    "        \"unit\": \"A\",\n",
    "        \"axis\": 2,\n",
    "        \"synced\": 1,\n",
    "        \"plotted\": 1,\n",
    "    }\n",
    ")\n",
    "batterySensors[\"power\"] = Sensor(\n",
    "    **{\n",
    "        \"data\": [],\n",
    "        \"time\": [],\n",
    "        \"lastSigVal\": 0.0,\n",
    "        \"sigVarTh\": 0.001,\n",
    "        \"unit\": \"W\",\n",
    "        \"axis\": 3,\n",
    "        \"synced\": 1,\n",
    "        \"plotted\": 1,\n",
    "    }\n",
    ")\n",
    "batterySensors[\"soc\"] = Sensor(\n",
    "    **{\n",
    "        \"data\": [],\n",
    "        \"time\": [],\n",
    "        \"lastSigVal\": 0.0,\n",
    "        \"sigVarTh\": 0.001,\n",
    "        \"unit\": \"%\",\n",
    "        \"axis\": 3,\n",
    "        \"synced\": 1,\n",
    "        \"plotted\": 1,\n",
    "    }\n",
    ")"
   ]
  },
  {
   "cell_type": "code",
   "execution_count": null,
   "id": "9c1e2030",
   "metadata": {},
   "outputs": [],
   "source": [
    "while t < simTime:\n",
    "# Manage battery current\n",
    "    current = pPlant.managePower(t)\n",
    "    # Simulation time step management\n",
    "    dt_s = min(\n",
    "        60.0,\n",
    "        float(\n",
    "            pPlant.battery.capacity.init * 3600.0 / (1.0 + abs(current * 400.0))\n",
    "        ),\n",
    "    )\n",
    "    if dt_s > prev_dt_s:\n",
    "        dt_s = prev_dt_s * 1.2\n",
    "        if dt_s >= 60.0:\n",
    "            dt_s = 60.0\n",
    "    prev_dt_s = dt_s\n",
    "    \n",
    "    t = t + dt_s\n",
    "\n",
    "    pPlant.battery.setCurrent(current, SIM_TARGETED_DEPTH)\n",
    "\n",
    "    for l in analysedElements:\n",
    "        l.calculateNextStep(dt_s, 25.0)\n",
    "    pPlant.battery.soc = min(l.soc for l in analysedElements)\n",
    "    \n",
    "    tDate = datetime.fromtimestamp(t)\n",
    "\n",
    "    batterySensors[\"soc\"].significantAppend(float(pPlant.battery.soc*100), tDate)\n",
    "    batterySensors[\"power\"].significantAppend(float(pPlant.pBat), tDate)\n",
    "    batterySensors[\"current\"].significantAppend(float(current), tDate)\n",
    "    pPlantSensors[\"production potential\"].significantAppend(float(pPlant.pProductionPot), tDate)\n",
    "    pPlantSensors[\"demand potential\"].significantAppend(float(pPlant.pDemandPot), tDate)\n",
    "    pPlantSensors[\"production actual\"].significantAppend(float(pPlant.pProduction), tDate)\n",
    "    pPlantSensors[\"power\"].significantAppend(float(pPlant.pSupplied), tDate)"
   ]
  },
  {
   "cell_type": "code",
   "execution_count": null,
   "id": "e97647cc",
   "metadata": {},
   "outputs": [],
   "source": [
    "batteryDf = dataframeFromSensors(batterySensors)\n",
    "pPlantDf = dataframeFromSensors(pPlantSensors)"
   ]
  },
  {
   "cell_type": "code",
   "execution_count": null,
   "id": "871d8041",
   "metadata": {},
   "outputs": [],
   "source": [
    "batAsset = edApi.getAsset(batterySerial)\n",
    "batAsset.df = batteryDf\n",
    "uploadSensorList = edApi.refactorDataframeToAsset(batAsset.df, batAsset)\n",
    "edApi.updateSensorDataByFile(batAsset, uploadSensorList)"
   ]
  },
  {
   "cell_type": "code",
   "execution_count": null,
   "id": "2a1ae920",
   "metadata": {},
   "outputs": [],
   "source": [
    "pPlantAsset = edApi.getAsset(pPlantSerial)\n",
    "pPlantAsset.df = pPlantDf\n",
    "\n",
    "uploadSensorList = edApi.refactorDataframeToAsset(pPlantAsset.df, pPlantAsset)\n",
    "edApi.updateSensorDataByFile(pPlantAsset, uploadSensorList)\n"
   ]
  },
  {
   "cell_type": "code",
   "execution_count": null,
   "id": "1bc83dbd",
   "metadata": {},
   "outputs": [],
   "source": [
    "df = dataframeFromSensors(batterySensors)\n",
    "fig = plotSensors(batterySensors, df, \"Test\")\n",
    "fig.show()"
   ]
  }
 ],
 "metadata": {
  "celltoolbar": "Tags",
  "kernelspec": {
   "display_name": "Python 3",
   "language": "python",
   "name": "python3"
  },
  "language_info": {
   "codemirror_mode": {
    "name": "ipython",
    "version": 3
   },
   "file_extension": ".py",
   "mimetype": "text/x-python",
   "name": "python",
   "nbconvert_exporter": "python",
   "pygments_lexer": "ipython3",
   "version": "3.8.8"
  }
 },
 "nbformat": 4,
 "nbformat_minor": 5
}
