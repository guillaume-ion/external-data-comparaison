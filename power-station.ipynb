{
 "cells": [
  {
   "cell_type": "code",
   "execution_count": null,
   "id": "d12ceeb2",
   "metadata": {
    "tags": [
     "parameters"
    ]
   },
   "outputs": [],
   "source": [
    "#Input parameters\n",
    "weatherStationSerial = \"BWEATHER-3\"\n",
    "citySerial = \"Loudeac\"\n",
    "pPlantSerial = \"JPP-L-2\"\n",
    "batterySerial = \"JPP-S-BS\"\n",
    "energyTraderSerial = \"ET-1\"\n",
    "quantileValue = \"0.1\"\n",
    "#Example parameter string for default parameters {\"weatherStationSerial\":\"BWEATHER-1\",\"citySerial\":\"Loudeac\",\"pPlantSerial\":\"JPP-1\",\"batterySerial\":\"BAT-1\"}\n",
    "#                                                {\"weatherStationSerial\":\"BWEATHER-1\",\"citySerial\":\"Loudeac\",\"pPlantSerial\":\"JPP-S-1\",\"batterySerial\":\"BAT-S-1\"}\n",
    "\n"
   ]
  },
  {
   "cell_type": "code",
   "execution_count": null,
   "id": "46e38344-778b-4de4-9219-4b0c49da4a78",
   "metadata": {},
   "outputs": [],
   "source": [
    "#Dynamically fetch the correct battery\n",
    "quantileValue = float(quantileValue)\n",
    "pPlantToBatSerialDict = {\"1\":'BS',\n",
    "                         \"2\":'BM',\n",
    "                         \"3\":'BL'}\n",
    "\n",
    "pPlantSerialArray = pPlantSerial.split(\"-\")\n",
    "pPlantSerialArray[2] = pPlantToBatSerialDict[pPlantSerialArray[2]]\n"
   ]
  },
  {
   "cell_type": "code",
   "execution_count": null,
   "id": "23b23646-af71-4eb3-a116-010a21669bc0",
   "metadata": {},
   "outputs": [],
   "source": [
    "batterySerial = \"-\".join(pPlantSerialArray)"
   ]
  },
  {
   "cell_type": "code",
   "execution_count": null,
   "id": "984af428",
   "metadata": {},
   "outputs": [],
   "source": [
    "#!pip install --upgrade git+https://alroc@bitbucket.org/freemens/ionlib.git@master"
   ]
  },
  {
   "cell_type": "code",
   "execution_count": null,
   "id": "f6f58824",
   "metadata": {},
   "outputs": [],
   "source": [
    "#!pip install -qqq --upgrade git+https://bitbucket.org/freemens/ion_sdk.git@master"
   ]
  },
  {
   "cell_type": "code",
   "execution_count": null,
   "id": "d48f7031-a279-4bd4-8245-7a3eae48ae43",
   "metadata": {},
   "outputs": [],
   "source": [
    "#!pip install -qqq --upgrade pandas\n",
    "#!pip install -qqq --upgrade numpy"
   ]
  },
  {
   "cell_type": "code",
   "execution_count": null,
   "id": "5c31044f",
   "metadata": {},
   "outputs": [],
   "source": [
    "%env ALTERGO_FACTORY_API = https://staging.altergo.io/\n",
    "%env ALTERGO_IOT_API = https://iot.staging.altergo.io/   "
   ]
  },
  {
   "cell_type": "code",
   "execution_count": null,
   "id": "54c70472-9da4-4cfe-9284-d282ed5caf34",
   "metadata": {
    "tags": []
   },
   "outputs": [],
   "source": [
    "from ionlib.models.battery import Battery, Cell, LEVEL_MODULE\n",
    "from random import random\n",
    "from datetime import datetime\n",
    "from ionlib.tools.toolbox import interpolateValue"
   ]
  },
  {
   "cell_type": "code",
   "execution_count": null,
   "id": "cc70aa9e",
   "metadata": {},
   "outputs": [],
   "source": [
    "from ionlib.models.battery import Battery, Cell, LEVEL_MODULE\n",
    "from ionlib.models.powerplant import PowerPlant,SolarArray\n",
    "import pandas as pd\n",
    "import ion_sdk.edison_api.edison_api as eapi\n",
    "from ion_sdk.edison_api.models.factoryModel import EdisonGenericComponent, Model,CurrentState\n",
    "from ion_sdk.tools.toolbox import plotSensors, dataframeFromSensors\n",
    "from ion_sdk.tools.sim import Sensor\n",
    "import datetime\n",
    "from datetime import datetime\n",
    "import math\n",
    "from ionlib.specs.powerplant_specs import simSpecs\n",
    "import pprint\n"
   ]
  },
  {
   "cell_type": "code",
   "execution_count": null,
   "id": "1ef04389",
   "metadata": {},
   "outputs": [],
   "source": [
    "edApi = eapi.Client(\"f6ad4f7166814976b66b9cb346ebc5dd\")"
   ]
  },
  {
   "cell_type": "code",
   "execution_count": null,
   "id": "e7a49a4e-ad61-46f5-9327-4ce3e7f77e54",
   "metadata": {},
   "outputs": [],
   "source": [
    "powerPlantAsset = edApi.getAsset(pPlantSerial)\n",
    "solarPanelSurface = powerPlantAsset.model.parameters[0].parameter_values[0].value\n"
   ]
  },
  {
   "cell_type": "code",
   "execution_count": null,
   "id": "0ec7c0e3-3c3d-47d7-8066-0d72eba60f47",
   "metadata": {},
   "outputs": [],
   "source": [
    "batteryAsset = edApi.getAsset(batterySerial)\n",
    "\n",
    "batteryVoltage = 400\n",
    "batteryCapacity = 50\n",
    "neededParameters = [\"Voltage\",\"Capacity\",\"Current (charge)\",\"Current (discharge)\"]\n",
    "parameterDict = {}\n",
    "for param in batteryAsset.model.parameters:\n",
    "    if param.parameter_model.name in neededParameters:\n",
    "        parameterDict[param.parameter_model.name] = param.parameter_values[0].value\n",
    "        \n"
   ]
  },
  {
   "cell_type": "code",
   "execution_count": null,
   "id": "b6cb5437-f99b-4183-a8d8-e54c06ca875d",
   "metadata": {},
   "outputs": [],
   "source": [
    "moduleInSeries = float(parameterDict[\"Voltage\"])/float(simSpecs['cell']['voltage']) / float(simSpecs['architecture']['cellsSeries'])\n",
    "moduleInSeries = math.ceil(moduleInSeries)\n",
    "\n",
    "moduleInPar=float(parameterDict[\"Capacity\"])/float(simSpecs['cell']['cellCapacity'])/14\n",
    "moduleInPar = math.ceil(moduleInPar)\n",
    "\n",
    "simSpecs['architecture'][\"modulesSeries\"] = moduleInSeries\n",
    "simSpecs['architecture'][\"modulesParallel\"] = moduleInPar"
   ]
  },
  {
   "cell_type": "code",
   "execution_count": null,
   "id": "5f97d965",
   "metadata": {
    "tags": []
   },
   "outputs": [],
   "source": [
    "weatherStationAsset = edApi.getAsset(weatherStationSerial)\n",
    "sensorNameList = edApi.matchSensors([\"Direct radiation\",\"Radiation rolling average\"],weatherStationAsset)\n",
    "req={\n",
    "    \"assets\":[weatherStationAsset],\n",
    "    \"sensorNames\":sensorNameList,\n",
    "    \"startDate\":eapi.edisonDate(2020,1,1,0,00),\n",
    "    \"endDate\":eapi.edisonDate(2020,12,31,0,00)\n",
    "        }\n",
    "\n",
    "edApi.getAssetDataFrame(**req)\n",
    "\n",
    "weatherStationDf = weatherStationAsset.df"
   ]
  },
  {
   "cell_type": "code",
   "execution_count": null,
   "id": "0d4ce7fb-523a-4df7-ab91-b35f5c968b7f",
   "metadata": {},
   "outputs": [],
   "source": [
    "from datetime import timedelta"
   ]
  },
  {
   "cell_type": "code",
   "execution_count": null,
   "id": "94012f75-004c-4f23-bed6-4af61185de32",
   "metadata": {},
   "outputs": [],
   "source": [
    "quantile = weatherStationDf[\"Radiation rolling average\"].quantile(quantileValue)\n",
    "result_index = weatherStationDf['Radiation rolling average'].sub(quantile).abs().idxmin()\n",
    "pollingStartDate = result_index.timestamp()* 1000\n",
    "pollingEndDate = result_index + timedelta(days=7)\n",
    "pollingEndDate = pollingEndDate.timestamp() * 1000\n"
   ]
  },
  {
   "cell_type": "code",
   "execution_count": null,
   "id": "dbacdd3d",
   "metadata": {},
   "outputs": [],
   "source": [
    "traderAsset = edApi.getAsset(energyTraderSerial)\n",
    "sensorNameList = edApi.matchSensors([\"Price\"],traderAsset)\n",
    "req={\n",
    "    \"assets\":[traderAsset],\n",
    "    \"sensorNames\":sensorNameList,\n",
    "    \"startDate\":pollingStartDate,\n",
    "    \"endDate\":pollingEndDate\n",
    "        }\n",
    "\n",
    "edApi.getAssetDataFrame(**req)\n",
    "\n",
    "traderAssetDf = traderAsset.df"
   ]
  },
  {
   "cell_type": "code",
   "execution_count": null,
   "id": "49527464",
   "metadata": {},
   "outputs": [],
   "source": [
    "cityAsset = edApi.getAsset(citySerial)\n",
    "sensorNameList = edApi.matchSensors([\"Power\"],cityAsset)\n",
    "req={\n",
    "    \"assets\":[cityAsset],\n",
    "    \"sensorNames\":sensorNameList,\n",
    "    \"startDate\":pollingStartDate,\n",
    "    \"endDate\":pollingEndDate\n",
    "        }\n",
    "\n",
    "edApi.getAssetDataFrame(**req)\n",
    "\n",
    "cityDf = cityAsset.df"
   ]
  },
  {
   "cell_type": "code",
   "execution_count": null,
   "id": "d98dae04",
   "metadata": {
    "scrolled": true
   },
   "outputs": [],
   "source": [
    "SIM_TARGETED_DEPTH = LEVEL_MODULE\n",
    "simTime = pollingEndDate / 1000\n",
    "t = pollingStartDate / 1000\n",
    "dt_s = 60.0\n",
    "prev_dt_s = 60.0\n",
    "time = []\n",
    "\n",
    "pPlant = PowerPlant(sourceProfile = weatherStationDf, loadProfile = cityDf, simSpecs = simSpecs, prices=traderAssetDf)\n",
    "\n",
    "pPlant.solarArray.surface = float(solarPanelSurface)\n",
    "pPlant.maxAcp = float(parameterDict['Current (charge)'])\n",
    "pPlant.maxAdp = float(parameterDict['Current (discharge)'])"
   ]
  },
  {
   "cell_type": "code",
   "execution_count": null,
   "id": "5b6101eb",
   "metadata": {
    "scrolled": true
   },
   "outputs": [],
   "source": [
    "analysedElements = []\n",
    "pPlant.battery.getElementsByDepth(analysedElements, SIM_TARGETED_DEPTH)"
   ]
  },
  {
   "cell_type": "code",
   "execution_count": null,
   "id": "93096a88",
   "metadata": {},
   "outputs": [],
   "source": [
    "pPlantSensors = {}\n",
    "batterySensors = {}\n",
    "loadSensors = {}\n",
    "tradingSensors = {}\n",
    "\n",
    "pPlantSensors[\"sales\"] = Sensor(\n",
    "    **{\n",
    "        \"data\": [],\n",
    "        \"time\": [],\n",
    "        \"lastSigVal\": 0.0,\n",
    "        \"sigVarTh\": 0.001,\n",
    "        \"unit\": \"°\",\n",
    "        \"axis\": 1,\n",
    "        \"synced\": 1,\n",
    "        \"plotted\": 1,\n",
    "    }\n",
    ")\n",
    "\n",
    "pPlantSensors[\"production potential\"] = Sensor(\n",
    "    **{\n",
    "        \"data\": [],\n",
    "        \"time\": [],\n",
    "        \"lastSigVal\": 0.0,\n",
    "        \"sigVarTh\": 0.001,\n",
    "        \"unit\": \"W\",\n",
    "        \"axis\": 1,\n",
    "        \"synced\": 1,\n",
    "        \"plotted\": 1,\n",
    "    }\n",
    ")\n",
    "pPlantSensors[\"demand potential\"] = Sensor(\n",
    "    **{\n",
    "        \"data\": [],\n",
    "        \"time\": [],\n",
    "        \"lastSigVal\": 0.0,\n",
    "        \"sigVarTh\": 0.001,\n",
    "        \"unit\": \"W\",\n",
    "        \"axis\": 1,\n",
    "        \"synced\": 1,\n",
    "        \"plotted\": 1,\n",
    "    }\n",
    ")\n",
    "pPlantSensors[\"production actual\"] = Sensor(\n",
    "    **{\n",
    "        \"data\": [],\n",
    "        \"time\": [],\n",
    "        \"lastSigVal\": 0.0,\n",
    "        \"sigVarTh\": 0.001,\n",
    "        \"unit\": \"W\",\n",
    "        \"axis\": 1,\n",
    "        \"synced\": 1,\n",
    "        \"plotted\": 1,\n",
    "    }\n",
    ")\n",
    "pPlantSensors[\"power\"] = Sensor(\n",
    "    **{\n",
    "        \"data\": [],\n",
    "        \"time\": [],\n",
    "        \"lastSigVal\": 0.0,\n",
    "        \"sigVarTh\": 0.001,\n",
    "        \"unit\": \"°\",\n",
    "        \"axis\": 1,\n",
    "        \"synced\": 1,\n",
    "        \"plotted\": 1,\n",
    "    }\n",
    ")\n",
    "pPlantSensors[\"over production\"] = Sensor(\n",
    "    **{\n",
    "        \"data\": [],\n",
    "        \"time\": [],\n",
    "        \"lastSigVal\": 0.0,\n",
    "        \"sigVarTh\": 0.001,\n",
    "        \"unit\": \"W\",\n",
    "        \"axis\": 1,\n",
    "        \"synced\": 1,\n",
    "        \"plotted\": 1,\n",
    "    }\n",
    ")\n",
    "pPlantSensors[\"blackout\"] = Sensor(\n",
    "    **{\n",
    "        \"data\": [],\n",
    "        \"time\": [],\n",
    "        \"lastSigVal\": 0.0,\n",
    "        \"sigVarTh\": 0.001,\n",
    "        \"unit\": \"W\",\n",
    "        \"axis\": 2,\n",
    "        \"synced\": 1,\n",
    "        \"plotted\": 1,\n",
    "    }\n",
    ")\n",
    "\n",
    "\n"
   ]
  },
  {
   "cell_type": "code",
   "execution_count": null,
   "id": "2696f140",
   "metadata": {},
   "outputs": [],
   "source": [
    "batterySensors[\"current\"] = Sensor(\n",
    "    **{\n",
    "        \"data\": [],\n",
    "        \"time\": [],\n",
    "        \"lastSigVal\": 0.0,\n",
    "        \"sigVarTh\": 0.001,\n",
    "        \"unit\": \"A\",\n",
    "        \"axis\": 2,\n",
    "        \"synced\": 1,\n",
    "        \"plotted\": 1,\n",
    "    }\n",
    ")\n",
    "batterySensors[\"power\"] = Sensor(\n",
    "    **{\n",
    "        \"data\": [],\n",
    "        \"time\": [],\n",
    "        \"lastSigVal\": 0.0,\n",
    "        \"sigVarTh\": 0.001,\n",
    "        \"unit\": \"W\",\n",
    "        \"axis\": 3,\n",
    "        \"synced\": 1,\n",
    "        \"plotted\": 1,\n",
    "    }\n",
    ")\n",
    "batterySensors[\"soc\"] = Sensor(\n",
    "    **{\n",
    "        \"data\": [],\n",
    "        \"time\": [],\n",
    "        \"lastSigVal\": 0.0,\n",
    "        \"sigVarTh\": 0.001,\n",
    "        \"unit\": \"%\",\n",
    "        \"axis\": 1,\n",
    "        \"synced\": 1,\n",
    "        \"plotted\": 1,\n",
    "    }\n",
    ")"
   ]
  },
  {
   "cell_type": "code",
   "execution_count": null,
   "id": "9c1e2030",
   "metadata": {},
   "outputs": [],
   "source": [
    "\n",
    "while t < simTime:\n",
    "# Manage battery current\n",
    "    current = pPlant.managePower(t)\n",
    "\n",
    "    # Simulation time step management\n",
    "    dt_s = min(\n",
    "        60.0,\n",
    "        float(\n",
    "            pPlant.battery.capacity.init * 3600.0 / (1.0 + abs(current * 400.0))\n",
    "        ),\n",
    "    )\n",
    "    if dt_s > prev_dt_s:\n",
    "        dt_s = prev_dt_s * 1.2\n",
    "        if dt_s >= 60.0:\n",
    "            dt_s = 60.0\n",
    "\n",
    "    prev_dt_s = dt_s\n",
    "    t = t + dt_s\n",
    "\n",
    "    pPlant.battery.setCurrent(current, SIM_TARGETED_DEPTH)\n",
    "\n",
    "    if t == simSpecs[\"start\"]:\n",
    "        pPlant.salesMin = 0 - (80*self.solarArray.surface)\n",
    "    else:\n",
    "        pPlant.calculatePricing(t,dt_s)\n",
    "    \n",
    "    for l in analysedElements:\n",
    "        l.calculateNextStep(dt_s, 25.0)\n",
    "    pPlant.battery.soc = min(l.soc for l in analysedElements)\n",
    "\n",
    "    tDate = datetime.fromtimestamp(t)\n",
    "\n",
    "\n",
    "\n",
    "    batterySensors[\"soc\"].significantAppend(float(pPlant.battery.soc*100), tDate)\n",
    "    batterySensors[\"power\"].significantAppend(float(pPlant.pBat), tDate)\n",
    "    batterySensors[\"current\"].significantAppend(float(current), tDate)\n",
    "\n",
    "    pPlantSensors['sales'].significantAppend(float(pPlant.salesMin), tDate)\n",
    "    pPlantSensors[\"production potential\"].significantAppend(float(pPlant.pProductionPot), tDate)\n",
    "    pPlantSensors[\"demand potential\"].significantAppend(float(pPlant.pDemandPot), tDate)\n",
    "    pPlantSensors[\"production actual\"].significantAppend(float(pPlant.pProduction), tDate)\n",
    "    pPlantSensors[\"power\"].significantAppend(float(pPlant.pSupplied), tDate)\n",
    "    pPlantSensors[\"over production\"].significantAppend(float(pPlant.overProduction), tDate)\n",
    "    pPlantSensors[\"blackout\"].significantAppend(float(pPlant.isBlackout), tDate)\n"
   ]
  },
  {
   "cell_type": "code",
   "execution_count": null,
   "id": "e97647cc",
   "metadata": {},
   "outputs": [],
   "source": [
    "batteryDf = dataframeFromSensors(batterySensors)\n",
    "pPlantDf = dataframeFromSensors(pPlantSensors)\n",
    "pPlantDf['Balance'] = pPlantDf['sales'].cumsum()\n",
    "pPlantDf['Cumulated blackout time'] = pPlantDf['blackout'].cumsum()"
   ]
  },
  {
   "cell_type": "code",
   "execution_count": null,
   "id": "91355541-f2c4-4950-95e3-3e736d5f2f3a",
   "metadata": {},
   "outputs": [],
   "source": [
    "try:\n",
    "    etAsset = edApi.getAsset(energyTraderSerial)\n",
    "    etAsset.df = salesDf\n",
    "    uploadSensorList = edApi.refactorDataframeToAsset(etAsset.df, etAsset)\n",
    "    edApi.updateSensorDataByFile(etAsset, uploadSensorList)\n",
    "except Exception as e:\n",
    "    print(etAsset)\n",
    "    print(e)"
   ]
  },
  {
   "cell_type": "code",
   "execution_count": null,
   "id": "871d8041",
   "metadata": {},
   "outputs": [],
   "source": [
    "try:\n",
    "    batAsset = edApi.getAsset(batterySerial)\n",
    "    batAsset.df = batteryDf\n",
    "    uploadSensorList = edApi.refactorDataframeToAsset(batAsset.df, batAsset)\n",
    "    edApi.updateSensorDataByFile(batAsset, uploadSensorList)\n",
    "except Exception as e:\n",
    "    print(batteryDf)\n",
    "    print(e)"
   ]
  },
  {
   "cell_type": "code",
   "execution_count": null,
   "id": "2a1ae920",
   "metadata": {
    "scrolled": true
   },
   "outputs": [],
   "source": [
    "try:\n",
    "    pPlantAsset = edApi.getAsset(pPlantSerial)\n",
    "    pPlantAsset.df = pPlantDf\n",
    "    uploadSensorList = edApi.refactorDataframeToAsset(pPlantAsset.df, pPlantAsset)\n",
    "    edApi.updateSensorDataByFile(pPlantAsset, uploadSensorList)\n",
    "except Exception as e:\n",
    "    print(pPlantDf)\n",
    "    print(e)"
   ]
  },
  {
   "cell_type": "code",
   "execution_count": null,
   "id": "2a321be1",
   "metadata": {},
   "outputs": [],
   "source": [
    "#df = dataframeFromSensors(batterySensors)\n",
    "#fig = plotSensors(batterySensors, df, \"Test\")\n",
    "#fig.show()"
   ]
  },
  {
   "cell_type": "code",
   "execution_count": null,
   "id": "7dfece51-1bd2-43a9-bd46-6bfea93186be",
   "metadata": {},
   "outputs": [],
   "source": [
    "#df = dataframeFromSensors(pPlantSensors)\n",
    "#fig = plotSensors(pPlantSensors, df, \"Test\")\n",
    "#fig.show()"
   ]
  },
  {
   "cell_type": "code",
   "execution_count": null,
   "id": "34497d80-5795-4944-88e7-1e42cb6d14ba",
   "metadata": {},
   "outputs": [],
   "source": []
  }
 ],
 "metadata": {
  "celltoolbar": "Tags",
  "kernelspec": {
   "display_name": "Python 3 (ipykernel)",
   "language": "python",
   "name": "python3"
  },
  "language_info": {
   "codemirror_mode": {
    "name": "ipython",
    "version": 3
   },
   "file_extension": ".py",
   "mimetype": "text/x-python",
   "name": "python",
   "nbconvert_exporter": "python",
   "pygments_lexer": "ipython3",
   "version": "3.9.5"
  }
 },
 "nbformat": 4,
 "nbformat_minor": 5
}
