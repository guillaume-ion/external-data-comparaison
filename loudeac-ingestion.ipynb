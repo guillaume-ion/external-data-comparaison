{
 "cells": [
  {
   "cell_type": "code",
   "execution_count": 5,
   "id": "026e4d07",
   "metadata": {
    "scrolled": true
   },
   "outputs": [
    {
     "name": "stdout",
     "output_type": "stream",
     "text": [
      "Collecting git+https://bitbucket.org/freemens/ion_sdk.git@master\n",
      "  Cloning https://bitbucket.org/freemens/ion_sdk.git (to revision master) to c:\\users\\gcoll\\appdata\\local\\temp\\pip-req-build-n3ds_5v3\n",
      "Requirement already satisfied: uplink==0.9.1 in c:\\users\\gcoll\\anaconda3\\lib\\site-packages (from ion-sdk==0.3.1) (0.9.1)\n",
      "Requirement already satisfied: pandas in c:\\users\\gcoll\\anaconda3\\lib\\site-packages (from ion-sdk==0.3.1) (1.2.4)\n",
      "Requirement already satisfied: numpy in c:\\users\\gcoll\\anaconda3\\lib\\site-packages (from ion-sdk==0.3.1) (1.20.1)\n",
      "Requirement already satisfied: scipy in c:\\users\\gcoll\\anaconda3\\lib\\site-packages (from ion-sdk==0.3.1) (1.6.2)\n",
      "Requirement already satisfied: python-dateutil in c:\\users\\gcoll\\anaconda3\\lib\\site-packages (from ion-sdk==0.3.1) (2.8.1)\n",
      "Requirement already satisfied: tabulate in c:\\users\\gcoll\\anaconda3\\lib\\site-packages (from ion-sdk==0.3.1) (0.8.9)\n",
      "Requirement already satisfied: matplotlib in c:\\users\\gcoll\\anaconda3\\lib\\site-packages (from ion-sdk==0.3.1) (3.3.4)\n",
      "Requirement already satisfied: fuzzywuzzy in c:\\users\\gcoll\\anaconda3\\lib\\site-packages (from ion-sdk==0.3.1) (0.18.0)\n",
      "Requirement already satisfied: plotly in c:\\users\\gcoll\\anaconda3\\lib\\site-packages (from ion-sdk==0.3.1) (5.3.1)\n",
      "Requirement already satisfied: python-Levenshtein in c:\\users\\gcoll\\anaconda3\\lib\\site-packages (from ion-sdk==0.3.1) (0.12.2)\n",
      "Requirement already satisfied: tqdm in c:\\users\\gcoll\\anaconda3\\lib\\site-packages (from ion-sdk==0.3.1) (4.59.0)\n",
      "Requirement already satisfied: uritemplate>=3.0.0 in c:\\users\\gcoll\\anaconda3\\lib\\site-packages (from uplink==0.9.1->ion-sdk==0.3.1) (4.1.1)\n",
      "Requirement already satisfied: six>=1.12.0 in c:\\users\\gcoll\\anaconda3\\lib\\site-packages (from uplink==0.9.1->ion-sdk==0.3.1) (1.15.0)\n",
      "Requirement already satisfied: requests>=2.18.0 in c:\\users\\gcoll\\anaconda3\\lib\\site-packages (from uplink==0.9.1->ion-sdk==0.3.1) (2.25.1)\n",
      "Requirement already satisfied: chardet<5,>=3.0.2 in c:\\users\\gcoll\\anaconda3\\lib\\site-packages (from requests>=2.18.0->uplink==0.9.1->ion-sdk==0.3.1) (4.0.0)\n",
      "Requirement already satisfied: certifi>=2017.4.17 in c:\\users\\gcoll\\anaconda3\\lib\\site-packages (from requests>=2.18.0->uplink==0.9.1->ion-sdk==0.3.1) (2020.12.5)\n",
      "Requirement already satisfied: urllib3<1.27,>=1.21.1 in c:\\users\\gcoll\\anaconda3\\lib\\site-packages (from requests>=2.18.0->uplink==0.9.1->ion-sdk==0.3.1) (1.26.4)\n",
      "Requirement already satisfied: idna<3,>=2.5 in c:\\users\\gcoll\\anaconda3\\lib\\site-packages (from requests>=2.18.0->uplink==0.9.1->ion-sdk==0.3.1) (2.10)\n",
      "Requirement already satisfied: pyparsing!=2.0.4,!=2.1.2,!=2.1.6,>=2.0.3 in c:\\users\\gcoll\\anaconda3\\lib\\site-packages (from matplotlib->ion-sdk==0.3.1) (2.4.7)\n",
      "Requirement already satisfied: pillow>=6.2.0 in c:\\users\\gcoll\\anaconda3\\lib\\site-packages (from matplotlib->ion-sdk==0.3.1) (8.2.0)\n",
      "Requirement already satisfied: cycler>=0.10 in c:\\users\\gcoll\\anaconda3\\lib\\site-packages (from matplotlib->ion-sdk==0.3.1) (0.10.0)\n",
      "Requirement already satisfied: kiwisolver>=1.0.1 in c:\\users\\gcoll\\anaconda3\\lib\\site-packages (from matplotlib->ion-sdk==0.3.1) (1.3.1)\n",
      "Requirement already satisfied: pytz>=2017.3 in c:\\users\\gcoll\\anaconda3\\lib\\site-packages (from pandas->ion-sdk==0.3.1) (2021.1)\n",
      "Requirement already satisfied: tenacity>=6.2.0 in c:\\users\\gcoll\\anaconda3\\lib\\site-packages (from plotly->ion-sdk==0.3.1) (8.0.1)\n",
      "Requirement already satisfied: setuptools in c:\\users\\gcoll\\anaconda3\\lib\\site-packages (from python-Levenshtein->ion-sdk==0.3.1) (52.0.0.post20210125)\n",
      "env: ALTERGO_FACTORY_API=https://staging.altergo.io/\n",
      "env: ALTERGO_IOT_API=https://iot.staging.altergo.io/\n"
     ]
    },
    {
     "name": "stderr",
     "output_type": "stream",
     "text": [
      "  Running command git clone -q https://bitbucket.org/freemens/ion_sdk.git 'C:\\Users\\gcoll\\AppData\\Local\\Temp\\pip-req-build-n3ds_5v3'\n"
     ]
    }
   ],
   "source": [
    "!pip install --upgrade git+https://bitbucket.org/freemens/ion_sdk.git@master    \n",
    "%env ALTERGO_FACTORY_API = https://staging.altergo.io/\n",
    "%env ALTERGO_IOT_API = https://iot.staging.altergo.io/   "
   ]
  },
  {
   "cell_type": "code",
   "execution_count": 6,
   "id": "a674a3bc",
   "metadata": {},
   "outputs": [],
   "source": [
    "import pandas as pd\n",
    "data = pd.read_csv('loudeac.csv')\n",
    "import matplotlib.pyplot as plt\n",
    "import ion_sdk.edison_api.edison_api as eapi\n",
    "import datetime\n",
    "from ion_sdk.edison_api.models.factoryModel import EdisonGenericComponent, Model,CurrentState\n",
    "\n",
    "edApi=eapi.Client(\"f6ad4f7166814976b66b9cb346ebc5dd\")\n"
   ]
  },
  {
   "cell_type": "code",
   "execution_count": 7,
   "id": "deef565f",
   "metadata": {},
   "outputs": [],
   "source": [
    "data['date'] = pd.to_datetime(data['date'], dayfirst=True)\n",
    "data=data.set_index('date')"
   ]
  },
  {
   "cell_type": "code",
   "execution_count": 8,
   "id": "3426ddd9",
   "metadata": {},
   "outputs": [
    {
     "name": "stdout",
     "output_type": "stream",
     "text": [
      "                     power\n",
      "date                      \n",
      "2021-10-07 00:00:00   0.50\n",
      "2021-10-07 01:00:00   0.38\n",
      "2021-10-07 02:00:00   0.25\n",
      "2021-10-07 03:00:00   0.25\n",
      "2021-10-07 04:00:00   0.25\n",
      "...                    ...\n",
      "2021-10-14 20:00:00   0.88\n",
      "2021-10-14 21:00:00   1.00\n",
      "2021-10-14 22:00:00   0.88\n",
      "2021-10-14 23:00:00   0.63\n",
      "2021-10-15 00:00:00   0.50\n",
      "\n",
      "[193 rows x 1 columns]\n"
     ]
    }
   ],
   "source": [
    "print(data)"
   ]
  },
  {
   "cell_type": "code",
   "execution_count": 9,
   "id": "6c508036",
   "metadata": {
    "scrolled": true
   },
   "outputs": [
    {
     "name": "stdout",
     "output_type": "stream",
     "text": [
      "EdisonComponent(id=321, serial_number='Loudeac', iot_data=IotData(id=258, last_update=Datetime(date=datetime.datetime(2021, 10, 15, 0, 0), timezone_type=3, timezone='UTC'), shadow='{\"totalCount\":153,\"needRefresh\":false,\"refreshObj\":[],\"_id\":\"616fcf3cd4802700223a9ca5\",\"sensorStatistics\":[{\"_id\":\"616fcf3cd4802700223a9ca6\",\"componentId\":321,\"sensorId\":13,\"sensorCode\":\"twq\",\"sensorPosition\":\"0\",\"lastUpdate\":1634256000000,\"lastValue\":0.5,\"firstUpdate\":1633564800000,\"firstValue\":0.5,\"count\":153,\"createdAt\":\"2021-10-20T08:11:40.786Z\",\"updatedAt\":\"2021-10-20T08:11:40.786Z\"}],\"componentId\":321,\"serialNumber\":\"Loudeac\",\"lastUpdate\":1634256000000,\"firstUpdate\":1633564800000,\"createdAt\":\"2021-10-20T08:11:40.786Z\",\"updatedAt\":\"2021-10-20T08:11:40.786Z\"}', latitude=None, longitude=None), model=Model(id=19, name='City', is_configurable=False, configuration_type=None, view_template=None, category=Category(id=2, name='Battery'), image=Image(id=8, name=None, file='6cb4de0e83a961d58766f0ee3bcecc46.jpeg'), configurations=[], parameters=[], sensors=[Sensor(name=None, plotly_js=None, array_map='1', id=34, format=None, sensor_model=SensorModel(code='aXV', id=23, name='Power', mapping='custom', unit='W', type=<TypeEnum.FLOAT: 'float'>, data_structure=<DataStructure.ARRAY: 'array'>, scale=1.0, is_virtual=False, virtual_expression=''), ranges=[])], child_component_models=None), current_state=CurrentState(id=323, location='No location', description='No description', current_state_datetime=Datetime(date=datetime.datetime(2021, 10, 19, 14, 47, 10), timezone_type=3, timezone='UTC'), status=Status(id=6, name='In Stock', type=None), status_existential=Status(id=11, name='Complete', type=None), status_functional=Status(id=4, name='Unknown', type=None)), tags=[Tag(id=15, name='city', color='danger')], df=None, dfList=[])\n"
     ]
    }
   ],
   "source": [
    "\n",
    "serial = \"loudeac\"\n",
    "asset=edApi.getAsset(serial)\n",
    "print(asset)\n"
   ]
  },
  {
   "cell_type": "code",
   "execution_count": 10,
   "id": "1bc5ce66",
   "metadata": {},
   "outputs": [
    {
     "name": "stdout",
     "output_type": "stream",
     "text": [
      "('Power', 100)\n",
      "\n",
      "Preparing payload\n",
      "Payload sent successfully! Checkout: https://staging.altergo.io/core/iot/connected_component/view/321/graph\n"
     ]
    }
   ],
   "source": [
    "\n",
    "uploadSensorList=edApi.refactorDataframeToAsset(data,asset)\n",
    "asset.df=data\n",
    "edApi.updateSensorDataByFile(asset,uploadSensorList)\n"
   ]
  },
  {
   "cell_type": "code",
   "execution_count": 11,
   "id": "ba9aa8d4",
   "metadata": {
    "scrolled": true
   },
   "outputs": [
    {
     "data": {
      "text/plain": [
       "<Figure size 432x288 with 0 Axes>"
      ]
     },
     "execution_count": 11,
     "metadata": {},
     "output_type": "execute_result"
    },
    {
     "data": {
      "text/plain": [
       "<Figure size 432x288 with 0 Axes>"
      ]
     },
     "metadata": {},
     "output_type": "display_data"
    }
   ],
   "source": [
    "plt.figure()"
   ]
  },
  {
   "cell_type": "code",
   "execution_count": 12,
   "id": "8e413d08",
   "metadata": {},
   "outputs": [
    {
     "data": {
      "text/plain": [
       "<AxesSubplot:xlabel='date'>"
      ]
     },
     "execution_count": 12,
     "metadata": {},
     "output_type": "execute_result"
    },
    {
     "data": {
      "image/png": "[encoded data removed]",
      "text/plain": [
       "<Figure size 432x288 with 1 Axes>"
      ]
     },
     "metadata": {
      "needs_background": "light"
     },
     "output_type": "display_data"
    }
   ],
   "source": [
    "data.plot()"
   ]
  },
  {
   "cell_type": "code",
   "execution_count": null,
   "id": "50c44072",
   "metadata": {},
   "outputs": [],
   "source": []
  }
 ],
 "metadata": {
  "kernelspec": {
   "display_name": "Python 3",
   "language": "python",
   "name": "python3"
  },
  "language_info": {
   "codemirror_mode": {
    "name": "ipython",
    "version": 3
   },
   "file_extension": ".py",
   "mimetype": "text/x-python",
   "name": "python",
   "nbconvert_exporter": "python",
   "pygments_lexer": "ipython3",
   "version": "3.8.8"
  }
 },
 "nbformat": 4,
 "nbformat_minor": 5
}
