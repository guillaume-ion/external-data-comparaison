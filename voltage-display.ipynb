{
 "cells": [
  {
   "cell_type": "code",
   "execution_count": null,
   "id": "f99e2668",
   "metadata": {},
   "outputs": [],
   "source": [
    "#@title <---Run to install ION_SDK & Dependancies\n",
    "\n",
    "!pip install --upgrade git+https://bitbucket.org/freemens/ion_sdk.git@master\n",
    "    \n",
    "    \n",
    "%env ALTERGO_FACTORY_API = https://staging.altergo.io/\n",
    "%envALTERGO_IOT_API = https://iot.staging.altergo.io/    "
   ]
  },
  {
   "cell_type": "code",
   "execution_count": null,
   "id": "d5ab8a19",
   "metadata": {},
   "outputs": [],
   "source": [
    "from getpass import getpass\n",
    "import ion_sdk.edison_api.edison_api as eapi\n",
    "from ion_sdk.edison_api.models.factoryModel import EdisonGenericComponent, Model,CurrentState\n",
    "apiKey=getpass(prompt='Enter your api Key: (go to https://edison.ionenergy.co/core/users/me/api-key) ', stream=None) \n",
    "edApi=eapi.Client(apiKey)"
   ]
  },
  {
   "cell_type": "code",
   "execution_count": null,
   "id": "7eeab3d8",
   "metadata": {},
   "outputs": [],
   "source": [
    "import pandas as pd\n",
    "Serial_number='CX2-37'\n",
    "asset=edApi.getAsset(Serial_number)\n",
    "\n",
    "sensorNameList=edApi.matchSensors([\"Voltage\"],asset)\n",
    "req={\n",
    "    \"assets\":[asset],\n",
    "    \"sensorNames\":sensorNameList,\n",
    "    \"startDate\":eapi.edisonDate(2011,3,27,7,00),\n",
    "    \"endDate\":eapi.edisonDate(2011,3,28,15,00)\n",
    "        }\n",
    "edApi.getAssetDataFrame(**req)\n",
    "print(asset.df)\n",
    "\n",
    "pd.options.plotting.backend = \"plotly\"\n",
    "\n",
    "fig = asset.df.plot()\n",
    "fig.show()"
   ]
  }
 ],
 "metadata": {
  "kernelspec": {
   "display_name": "Python 3",
   "language": "python",
   "name": "python3"
  },
  "language_info": {
   "codemirror_mode": {
    "name": "ipython",
    "version": 3
   },
   "file_extension": ".py",
   "mimetype": "text/x-python",
   "name": "python",
   "nbconvert_exporter": "python",
   "pygments_lexer": "ipython3",
   "version": "3.8.8"
  }
 },
 "nbformat": 4,
 "nbformat_minor": 5
}
