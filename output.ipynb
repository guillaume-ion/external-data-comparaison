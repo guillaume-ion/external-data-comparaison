{
 "cells": [
  {
   "cell_type": "code",
   "execution_count": 1,
   "id": "2b8281ee-f0dc-4d11-a77f-b242109536c0",
   "metadata": {
    "execution": {
     "iopub.execute_input": "2021-10-26T13:07:51.189930Z",
     "iopub.status.busy": "2021-10-26T13:07:51.188930Z",
     "iopub.status.idle": "2021-10-26T13:07:51.198906Z",
     "shell.execute_reply": "2021-10-26T13:07:51.198906Z"
    },
    "papermill": {
     "duration": 0.016978,
     "end_time": "2021-10-26T13:07:51.199906",
     "exception": false,
     "start_time": "2021-10-26T13:07:51.182928",
     "status": "completed"
    },
    "tags": [
     "parameters"
    ]
   },
   "outputs": [],
   "source": [
    "#Input parameters\n",
    "powerPlantSerial = \"JPP-3\" # {\"powerPlantSerial\": \"JPP-2\"}\n",
    "model = \"Green power plant\" # {\"model\": \"Green power plant\"}"
   ]
  },
  {
   "cell_type": "code",
   "execution_count": 2,
   "id": "ad06523c",
   "metadata": {
    "execution": {
     "iopub.execute_input": "2021-10-26T13:07:51.209908Z",
     "iopub.status.busy": "2021-10-26T13:07:51.209908Z",
     "iopub.status.idle": "2021-10-26T13:07:51.214909Z",
     "shell.execute_reply": "2021-10-26T13:07:51.214909Z"
    },
    "papermill": {
     "duration": 0.010002,
     "end_time": "2021-10-26T13:07:51.214909",
     "exception": false,
     "start_time": "2021-10-26T13:07:51.204907",
     "status": "completed"
    },
    "tags": [
     "injected-parameters"
    ]
   },
   "outputs": [],
   "source": [
    "# Parameters\n",
    "powerPlantSerial = \"JPP-50\"\n",
    "model = \"Green power plant\"\n"
   ]
  },
  {
   "cell_type": "code",
   "execution_count": 3,
   "id": "026e4d07",
   "metadata": {
    "execution": {
     "iopub.execute_input": "2021-10-26T13:07:51.224912Z",
     "iopub.status.busy": "2021-10-26T13:07:51.223912Z",
     "iopub.status.idle": "2021-10-26T13:07:56.136476Z",
     "shell.execute_reply": "2021-10-26T13:07:56.136476Z"
    },
    "papermill": {
     "duration": 4.918566,
     "end_time": "2021-10-26T13:07:56.136476",
     "exception": false,
     "start_time": "2021-10-26T13:07:51.217910",
     "status": "completed"
    },
    "scrolled": true,
    "tags": []
   },
   "outputs": [
    {
     "name": "stdout",
     "output_type": "stream",
     "text": [
      "env: ALTERGO_FACTORY_API=https://staging.altergo.io/\n",
      "env: ALTERGO_IOT_API=https://iot.staging.altergo.io/\n"
     ]
    }
   ],
   "source": [
    "!pip install -qqq --upgrade git+https://bitbucket.org/freemens/ion_sdk.git@master    \n",
    "%env ALTERGO_FACTORY_API = https://staging.altergo.io/\n",
    "%env ALTERGO_IOT_API = https://iot.staging.altergo.io/   "
   ]
  },
  {
   "cell_type": "code",
   "execution_count": 4,
   "id": "a674a3bc",
   "metadata": {
    "execution": {
     "iopub.execute_input": "2021-10-26T13:07:56.146479Z",
     "iopub.status.busy": "2021-10-26T13:07:56.145478Z",
     "iopub.status.idle": "2021-10-26T13:07:56.873643Z",
     "shell.execute_reply": "2021-10-26T13:07:56.873643Z"
    },
    "papermill": {
     "duration": 0.734166,
     "end_time": "2021-10-26T13:07:56.874643",
     "exception": false,
     "start_time": "2021-10-26T13:07:56.140477",
     "status": "completed"
    },
    "tags": []
   },
   "outputs": [],
   "source": [
    "import ion_sdk.edison_api.edison_api as eapi"
   ]
  },
  {
   "cell_type": "code",
   "execution_count": 5,
   "id": "29e545d1-e35a-49bb-b3b9-285aef7eb36e",
   "metadata": {
    "execution": {
     "iopub.execute_input": "2021-10-26T13:07:56.884646Z",
     "iopub.status.busy": "2021-10-26T13:07:56.883645Z",
     "iopub.status.idle": "2021-10-26T13:07:56.889647Z",
     "shell.execute_reply": "2021-10-26T13:07:56.889647Z"
    },
    "papermill": {
     "duration": 0.012003,
     "end_time": "2021-10-26T13:07:56.889647",
     "exception": false,
     "start_time": "2021-10-26T13:07:56.877644",
     "status": "completed"
    },
    "tags": []
   },
   "outputs": [],
   "source": [
    "edApi=eapi.Client(\"f6ad4f7166814976b66b9cb346ebc5dd\")"
   ]
  },
  {
   "cell_type": "code",
   "execution_count": 6,
   "id": "6c508036",
   "metadata": {
    "execution": {
     "iopub.execute_input": "2021-10-26T13:07:56.898649Z",
     "iopub.status.busy": "2021-10-26T13:07:56.898649Z",
     "iopub.status.idle": "2021-10-26T13:07:56.905650Z",
     "shell.execute_reply": "2021-10-26T13:07:56.905650Z"
    },
    "papermill": {
     "duration": 0.013003,
     "end_time": "2021-10-26T13:07:56.905650",
     "exception": false,
     "start_time": "2021-10-26T13:07:56.892647",
     "status": "completed"
    },
    "scrolled": true,
    "tags": []
   },
   "outputs": [],
   "source": [
    "Serial_number = powerPlantSerial\n",
    "Model_name= model"
   ]
  },
  {
   "cell_type": "code",
   "execution_count": 7,
   "id": "e64db061-d206-4c23-939b-5f64db5f866b",
   "metadata": {
    "execution": {
     "iopub.execute_input": "2021-10-26T13:07:56.915652Z",
     "iopub.status.busy": "2021-10-26T13:07:56.914652Z",
     "iopub.status.idle": "2021-10-26T13:07:57.763271Z",
     "shell.execute_reply": "2021-10-26T13:07:57.764272Z"
    },
    "papermill": {
     "duration": 0.855621,
     "end_time": "2021-10-26T13:07:57.764272",
     "exception": false,
     "start_time": "2021-10-26T13:07:56.908651",
     "status": "completed"
    },
    "tags": []
   },
   "outputs": [],
   "source": [
    "resp=edApi.createAssetBySerial(Model_name,Serial_number)"
   ]
  }
 ],
 "metadata": {
  "kernelspec": {
   "display_name": "Python 3",
   "language": "python",
   "name": "python3"
  },
  "language_info": {
   "codemirror_mode": {
    "name": "ipython",
    "version": 3
   },
   "file_extension": ".py",
   "mimetype": "text/x-python",
   "name": "python",
   "nbconvert_exporter": "python",
   "pygments_lexer": "ipython3",
   "version": "3.8.8"
  },
  "papermill": {
   "default_parameters": {},
   "duration": 7.950331,
   "end_time": "2021-10-26T13:07:58.107040",
   "environment_variables": {},
   "exception": null,
   "input_path": ".\\Asset creator.ipynb",
   "output_path": "output.ipynb",
   "parameters": {
    "model": "Green power plant",
    "powerPlantSerial": "JPP-50"
   },
   "start_time": "2021-10-26T13:07:50.156709",
   "version": "2.3.3"
  }
 },
 "nbformat": 4,
 "nbformat_minor": 5
}