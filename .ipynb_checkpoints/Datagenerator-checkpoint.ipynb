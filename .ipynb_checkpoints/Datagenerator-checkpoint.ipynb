{
 "cells": [
  {
   "cell_type": "code",
   "execution_count": 20,
   "id": "652fe738-dabd-4acc-88d5-c9394a77cdeb",
   "metadata": {},
   "outputs": [],
   "source": [
    "import pandas as pd\n",
    "import numpy as np\n",
    "from datetime import datetime"
   ]
  },
  {
   "cell_type": "code",
   "execution_count": 21,
   "id": "f9657f81-5941-4fb0-bd4c-9b8bcc599458",
   "metadata": {},
   "outputs": [],
   "source": [
    "randFloor = 200\n",
    "randCeiling = 300\n",
    "valuesColumnName = 'radiation'"
   ]
  },
  {
   "cell_type": "code",
   "execution_count": 22,
   "id": "db19403a-5dc3-485b-bddf-f869fdfee1a4",
   "metadata": {},
   "outputs": [],
   "source": [
    "    radiationSample = pd.date_range(start='2020-01-01', end='2020-01-03', freq='H')\n",
    "    demandSample =  pd.date_range(start='2020-01-01', end='2020-01-03', freq='H')"
   ]
  },
  {
   "cell_type": "code",
   "execution_count": 23,
   "id": "ddb3fb07-e40a-45d3-bce4-19dd6ee8038a",
   "metadata": {},
   "outputs": [
    {
     "data": {
      "text/plain": [
       "DatetimeIndex(['2020-01-01 00:00:00', '2020-01-01 01:00:00',\n",
       "               '2020-01-01 02:00:00', '2020-01-01 03:00:00',\n",
       "               '2020-01-01 04:00:00', '2020-01-01 05:00:00',\n",
       "               '2020-01-01 06:00:00', '2020-01-01 07:00:00',\n",
       "               '2020-01-01 08:00:00', '2020-01-01 09:00:00',\n",
       "               '2020-01-01 10:00:00', '2020-01-01 11:00:00',\n",
       "               '2020-01-01 12:00:00', '2020-01-01 13:00:00',\n",
       "               '2020-01-01 14:00:00', '2020-01-01 15:00:00',\n",
       "               '2020-01-01 16:00:00', '2020-01-01 17:00:00',\n",
       "               '2020-01-01 18:00:00', '2020-01-01 19:00:00',\n",
       "               '2020-01-01 20:00:00', '2020-01-01 21:00:00',\n",
       "               '2020-01-01 22:00:00', '2020-01-01 23:00:00',\n",
       "               '2020-01-02 00:00:00', '2020-01-02 01:00:00',\n",
       "               '2020-01-02 02:00:00', '2020-01-02 03:00:00',\n",
       "               '2020-01-02 04:00:00', '2020-01-02 05:00:00',\n",
       "               '2020-01-02 06:00:00', '2020-01-02 07:00:00',\n",
       "               '2020-01-02 08:00:00', '2020-01-02 09:00:00',\n",
       "               '2020-01-02 10:00:00', '2020-01-02 11:00:00',\n",
       "               '2020-01-02 12:00:00', '2020-01-02 13:00:00',\n",
       "               '2020-01-02 14:00:00', '2020-01-02 15:00:00',\n",
       "               '2020-01-02 16:00:00', '2020-01-02 17:00:00',\n",
       "               '2020-01-02 18:00:00', '2020-01-02 19:00:00',\n",
       "               '2020-01-02 20:00:00', '2020-01-02 21:00:00',\n",
       "               '2020-01-02 22:00:00', '2020-01-02 23:00:00',\n",
       "               '2020-01-03 00:00:00'],\n",
       "              dtype='datetime64[ns]', freq='H')"
      ]
     },
     "execution_count": 23,
     "metadata": {},
     "output_type": "execute_result"
    }
   ],
   "source": [
    "radiationSample"
   ]
  },
  {
   "cell_type": "code",
   "execution_count": 24,
   "id": "2a4c2ec1-fb1c-4bc9-a3af-01db63a1216c",
   "metadata": {},
   "outputs": [],
   "source": [
    "df = pd.DataFrame()"
   ]
  },
  {
   "cell_type": "code",
   "execution_count": 25,
   "id": "771d2c64-01ec-43a8-9cad-23f0396ba4e1",
   "metadata": {},
   "outputs": [],
   "source": [
    "df['time'] = radiationSample"
   ]
  },
  {
   "cell_type": "code",
   "execution_count": 26,
   "id": "03fe81de-62b6-46e6-b461-989a858c699e",
   "metadata": {},
   "outputs": [],
   "source": [
    "df[valuesColumnName] = np.random.randint(randFloor, randCeiling, df.shape[0])"
   ]
  },
  {
   "cell_type": "code",
   "execution_count": 27,
   "id": "f2c8bc3b-c7c7-41c3-bd6b-743b272e0c0f",
   "metadata": {},
   "outputs": [],
   "source": [
    "fileString = valuesColumnName + \".csv\"\n",
    "df.to_csv(fileString)"
   ]
  },
  {
   "cell_type": "code",
   "execution_count": null,
   "id": "62e78597-edca-4e4c-838d-a19ae748b46c",
   "metadata": {},
   "outputs": [],
   "source": []
  }
 ],
 "metadata": {
  "kernelspec": {
   "display_name": "Python 3",
   "language": "python",
   "name": "python3"
  },
  "language_info": {
   "codemirror_mode": {
    "name": "ipython",
    "version": 3
   },
   "file_extension": ".py",
   "mimetype": "text/x-python",
   "name": "python",
   "nbconvert_exporter": "python",
   "pygments_lexer": "ipython3",
   "version": "3.8.8"
  }
 },
 "nbformat": 4,
 "nbformat_minor": 5
}
