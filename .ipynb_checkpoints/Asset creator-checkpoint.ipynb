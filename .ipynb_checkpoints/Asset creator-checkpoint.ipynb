{
 "cells": [
  {
   "cell_type": "code",
   "execution_count": null,
   "id": "2b8281ee-f0dc-4d11-a77f-b242109536c0",
   "metadata": {
    "tags": [
     "parameters"
    ]
   },
   "outputs": [],
   "source": [
    "#Input parameters\n",
    "powerPlantSerial = \"JPP-2\" # {\"powerPlantSerial\": \"JPP-2\"}\n",
    "model = \"Green power plant\" # {\"model\": \"Green power plant\"}"
   ]
  },
  {
   "cell_type": "code",
   "execution_count": null,
   "id": "026e4d07",
   "metadata": {
    "scrolled": true
   },
   "outputs": [],
   "source": [
    "!pip install -qqq --upgrade git+https://bitbucket.org/freemens/ion_sdk.git@master    \n",
    "%env ALTERGO_FACTORY_API = https://staging.altergo.io/\n",
    "%env ALTERGO_IOT_API = https://iot.staging.altergo.io/   "
   ]
  },
  {
   "cell_type": "code",
   "execution_count": null,
   "id": "a674a3bc",
   "metadata": {},
   "outputs": [],
   "source": [
    "import pandas as pd\n",
    "import matplotlib.pyplot as plt\n",
    "import ion_sdk.edison_api.edison_api as eapi\n",
    "import datetime\n",
    "from ion_sdk.edison_api.models.factoryModel import EdisonGenericComponent, Model,CurrentState"
   ]
  },
  {
   "cell_type": "code",
   "execution_count": null,
   "id": "29e545d1-e35a-49bb-b3b9-285aef7eb36e",
   "metadata": {},
   "outputs": [],
   "source": [
    "edApi=eapi.Client(\"f6ad4f7166814976b66b9cb346ebc5dd\")"
   ]
  },
  {
   "cell_type": "code",
   "execution_count": null,
   "id": "6c508036",
   "metadata": {
    "scrolled": true
   },
   "outputs": [],
   "source": [
    "Serial_number = powerPlantSerial\n",
    "Model_name= model"
   ]
  },
  {
   "cell_type": "code",
   "execution_count": null,
   "id": "e64db061-d206-4c23-939b-5f64db5f866b",
   "metadata": {},
   "outputs": [],
   "source": [
    "resp=edApi.createAssetBySerial(Model_name,Serial_number)"
   ]
  }
 ],
 "metadata": {
  "kernelspec": {
   "display_name": "Python 3",
   "language": "python",
   "name": "python3"
  },
  "language_info": {
   "codemirror_mode": {
    "name": "ipython",
    "version": 3
   },
   "file_extension": ".py",
   "mimetype": "text/x-python",
   "name": "python",
   "nbconvert_exporter": "python",
   "pygments_lexer": "ipython3",
   "version": "3.8.8"
  }
 },
 "nbformat": 4,
 "nbformat_minor": 5
}
